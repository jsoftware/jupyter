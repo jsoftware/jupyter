{
 "cells": [
  {
   "cell_type": "markdown",
   "metadata": {
    "deletable": true,
    "editable": true
   },
   "source": [
    "# J Labs\n",
    "\n",
    "### A Taste of J (2)"
   ]
  },
  {
   "cell_type": "markdown",
   "metadata": {
    "deletable": true,
    "editable": true
   },
   "source": [
    "### (1 of 18) First Steps\n",
    "Look at the following J sentences; can you figure them out? The sentences are shown indented 3 spaces; the result, if any, is shown aligned to the left margin.\n",
    "\n",
    "These simple sentences illustrate some of the core facilities of J, that will be described in this lab."
   ]
  },
  {
   "cell_type": "code",
   "execution_count": null,
   "metadata": {
    "collapsed": false,
    "deletable": true,
    "editable": true
   },
   "outputs": [],
   "source": [
    "tab=: /~"
   ]
  },
  {
   "cell_type": "code",
   "execution_count": null,
   "metadata": {
    "collapsed": false,
    "deletable": true,
    "editable": true
   },
   "outputs": [],
   "source": [
    "(];*.tab;!tab) _2+i.7"
   ]
  },
  {
   "cell_type": "markdown",
   "metadata": {
    "deletable": true,
    "editable": true
   },
   "source": [
    "### (2 of 18) First Steps (ctd)\n",
    "To start, note that \"verbs\" (i.e. functions) in J can apply to several data items at once. Indeed, the basic datatype is an array, and J verbs are designed to apply to arrays. For example, the following adds two lists of numbers:"
   ]
  },
  {
   "cell_type": "code",
   "execution_count": null,
   "metadata": {
    "collapsed": false,
    "deletable": true,
    "editable": true
   },
   "outputs": [],
   "source": [
    "2 3 5 + 10 20 30"
   ]
  },
  {
   "cell_type": "markdown",
   "metadata": {
    "deletable": true,
    "editable": true
   },
   "source": [
    "### (3 of 18) Adverbs\n",
    "The \"adverb\" in J takes a verb argument and returns another verb, typically related. The behaviour is much like in English: \"run quickly\", is the verb \"run\", modified by the adverb \"quickly\".\n",
    "\n",
    "The J adverb / results in a verb that applies to each pair of elements, compare with above:"
   ]
  },
  {
   "cell_type": "code",
   "execution_count": null,
   "metadata": {
    "collapsed": false,
    "deletable": true,
    "editable": true
   },
   "outputs": [],
   "source": [
    "2 3 5 +/ 10 20 30"
   ]
  },
  {
   "cell_type": "markdown",
   "metadata": {
    "deletable": true,
    "editable": true
   },
   "source": [
    "### (4 of 18) Adverbs (ctd)\n",
    "Thus, +/ forms an addition table, and similarly, \\*/ forms a multiplication table:"
   ]
  },
  {
   "cell_type": "code",
   "execution_count": null,
   "metadata": {
    "collapsed": false,
    "deletable": true,
    "editable": true
   },
   "outputs": [],
   "source": [
    "2 3 5 */ 10 20 30"
   ]
  },
  {
   "cell_type": "markdown",
   "metadata": {
    "deletable": true,
    "editable": true
   },
   "source": [
    "### (5 of 18) Adverbs (ctd)\n",
    "Try entering:\n",
    "\n",
    "<code>   ```2 3 5 %/ 10 20 30```</code><br>"
   ]
  },
  {
   "cell_type": "markdown",
   "metadata": {
    "deletable": true,
    "editable": true
   },
   "source": [
    "### (6 of 18) Adverbs (ctd)\n",
    "The adverb ~ applies a verb with the same argument on the left as on the right, thus the following two expressions are equivalent:"
   ]
  },
  {
   "cell_type": "code",
   "execution_count": null,
   "metadata": {
    "collapsed": false,
    "deletable": true,
    "editable": true
   },
   "outputs": [],
   "source": [
    "0 1 2 3 + 0 1 2 3"
   ]
  },
  {
   "cell_type": "code",
   "execution_count": null,
   "metadata": {
    "collapsed": false,
    "deletable": true,
    "editable": true
   },
   "outputs": [],
   "source": [
    "+~ 0 1 2 3"
   ]
  },
  {
   "cell_type": "markdown",
   "metadata": {
    "deletable": true,
    "editable": true
   },
   "source": [
    "### (7 of 18) Adverbs (ctd)\n",
    "We can combine two adverbs. The following applies the +/ addition table with the same argument on left and right:"
   ]
  },
  {
   "cell_type": "code",
   "execution_count": null,
   "metadata": {
    "collapsed": false,
    "deletable": true,
    "editable": true
   },
   "outputs": [],
   "source": [
    "+/~ 0 1 2 3"
   ]
  },
  {
   "cell_type": "markdown",
   "metadata": {
    "deletable": true,
    "editable": true
   },
   "source": [
    "### (8 of 18) Adverbs (ctd)\n",
    "Since /~ is to be used again, we give it a name \"tab\". This is not required, but is helpful in reading later expressions."
   ]
  },
  {
   "cell_type": "code",
   "execution_count": null,
   "metadata": {
    "collapsed": false,
    "deletable": true,
    "editable": true
   },
   "outputs": [],
   "source": [
    "tab=. /~"
   ]
  },
  {
   "cell_type": "code",
   "execution_count": null,
   "metadata": {
    "collapsed": false,
    "deletable": true,
    "editable": true
   },
   "outputs": [],
   "source": [
    "+ tab 0 1 2 3"
   ]
  },
  {
   "cell_type": "code",
   "execution_count": null,
   "metadata": {
    "collapsed": false,
    "deletable": true,
    "editable": true
   },
   "outputs": [],
   "source": [
    "* tab 0 1 2 3"
   ]
  },
  {
   "cell_type": "markdown",
   "metadata": {
    "deletable": true,
    "editable": true
   },
   "source": [
    "### (9 of 18) Adverbs (ctd)\n",
    "Try entering:\n",
    "\n",
    "<code>   ```^ tab 0 1 2 3```</code><br>"
   ]
  },
  {
   "cell_type": "markdown",
   "metadata": {
    "deletable": true,
    "editable": true
   },
   "source": [
    "### (10 of 18) Integer\n",
    "The verb i. (integer) generates the first n numbers.\n",
    "\n",
    "Try entering:\n",
    "\n",
    "<code>   ```i. 3 4```</code><br>\n",
    "\n",
    "<code>   ```i. 3 4 5```</code><br>"
   ]
  },
  {
   "cell_type": "code",
   "execution_count": null,
   "metadata": {
    "collapsed": false,
    "deletable": true,
    "editable": true
   },
   "outputs": [],
   "source": [
    "i.7"
   ]
  },
  {
   "cell_type": "markdown",
   "metadata": {
    "deletable": true,
    "editable": true
   },
   "source": [
    "### (11 of 18) Negative Numbers\n",
    "Negative numbers are shown with a leading underscore character, which is not the same as \"-\", the minus verb."
   ]
  },
  {
   "cell_type": "code",
   "execution_count": null,
   "metadata": {
    "collapsed": false,
    "deletable": true,
    "editable": true
   },
   "outputs": [],
   "source": [
    "_2+ i.7"
   ]
  },
  {
   "cell_type": "markdown",
   "metadata": {
    "deletable": true,
    "editable": true
   },
   "source": [
    "### (12 of 18) Combining Verbs\n",
    "Now lets look at the expression in parentheses:\n",
    "\n",
    "<code>   ```];*.tab;!tab```</code><br>\n",
    "\n",
    "Ignoring the semicolons for the moment, the expression contains 3 verbs:\n",
    "\n",
    "] is the identity verb:"
   ]
  },
  {
   "cell_type": "code",
   "execution_count": null,
   "metadata": {
    "collapsed": false,
    "deletable": true,
    "editable": true
   },
   "outputs": [],
   "source": [
    "] _2+i.7"
   ]
  },
  {
   "cell_type": "markdown",
   "metadata": {
    "deletable": true,
    "editable": true
   },
   "source": [
    "### (13 of 18) Combining Verbs (ctd)\n",
    "```*.``` is the least common multiple verb, so ```*.tab``` is the corresponding table. For example, the LCM of 3 and 4 is 12:"
   ]
  },
  {
   "cell_type": "code",
   "execution_count": null,
   "metadata": {
    "collapsed": false,
    "deletable": true,
    "editable": true
   },
   "outputs": [],
   "source": [
    "3 *. 4"
   ]
  },
  {
   "cell_type": "code",
   "execution_count": null,
   "metadata": {
    "collapsed": false,
    "deletable": true,
    "editable": true
   },
   "outputs": [],
   "source": [
    "*.tab _2+i.7"
   ]
  },
  {
   "cell_type": "markdown",
   "metadata": {
    "deletable": true,
    "editable": true
   },
   "source": [
    "### (14 of 18) Combining Verbs (ctd)\n",
    "! is the combinations verb. m!n is the number of ways of taking m combinations of n objects; so !tab is the corresponding table. For example, 2!4 is 6.\n",
    "\n",
    "Note that if you look at the lower right part of the table, you can see a copy of the triangle of Pascal."
   ]
  },
  {
   "cell_type": "code",
   "execution_count": null,
   "metadata": {
    "collapsed": false,
    "deletable": true,
    "editable": true
   },
   "outputs": [],
   "source": [
    "2!4"
   ]
  },
  {
   "cell_type": "code",
   "execution_count": null,
   "metadata": {
    "collapsed": false,
    "deletable": true,
    "editable": true
   },
   "outputs": [],
   "source": [
    "!tab _2+i.7"
   ]
  },
  {
   "cell_type": "markdown",
   "metadata": {
    "deletable": true,
    "editable": true
   },
   "source": [
    "### (15 of 18) Combining Verbs (ctd)\n",
    "The expression in parentheses:\n",
    "\n",
    "<code>  ```];*.tab;!tab```</code><br>\n",
    "\n",
    "is therefore seen to be of the form:\n",
    "\n",
    "<code>  ```f;g;h```</code><br>\n",
    "\n",
    "for verbs f g and h. It happens that ; is also a verb, so this expression is a list of 5 verbs!\n",
    "\n",
    "To understand this, consider a simpler list of 3 verbs commonly seen in mathematics. Suppose f and g are functions, then:\n",
    "\n",
    "<code>   ```(f + g) x```</code><br>\n",
    "\n",
    "is typically defined to be\n",
    "\n",
    "<code>   ```f(x) + g(x)```</code><br>\n",
    "\n",
    "In J, this concept is extended to any type of function. Given verbs f g and h, then:\n",
    "\n",
    "<code>   ```(f g h) x```</code><br>\n",
    "\n",
    "is defined as\n",
    "\n",
    "<code>   ```(f x) g (h x)```</code><br>\n",
    "\n",
    "Example:"
   ]
  },
  {
   "cell_type": "code",
   "execution_count": null,
   "metadata": {
    "collapsed": false,
    "deletable": true,
    "editable": true
   },
   "outputs": [],
   "source": [
    "(] + %) 1 2 3 4   NB. % is the reciprocal"
   ]
  },
  {
   "cell_type": "markdown",
   "metadata": {
    "deletable": true,
    "editable": true
   },
   "source": [
    "### (16 of 18) Combining Verbs (ctd)\n",
    "A list of 3 verbs together is called a fork, and defines a new verb.\n",
    "\n",
    "Here is another example. The verb ; links its arguments together, putting each in a box. The following is the fork: identity linked with reciprocal."
   ]
  },
  {
   "cell_type": "code",
   "execution_count": null,
   "metadata": {
    "collapsed": false,
    "deletable": true,
    "editable": true
   },
   "outputs": [],
   "source": [
    "(] ; %) 1 2 3 4"
   ]
  },
  {
   "cell_type": "markdown",
   "metadata": {
    "deletable": true,
    "editable": true
   },
   "source": [
    "### (17 of 18) Combining Verbs (ctd)\n",
    "J interprets a list of 5 verbs by creating a fork from the rightmost 3 verbs, then another fork from the new verb and the two remaining verbs.\n",
    "\n",
    "It may be seen that:\n",
    "\n",
    "<code>  ```(];*.tab;!tab)```</code><br>\n",
    "\n",
    "is a verb that returns the identity; the LCM table; and the combinations table; all linked together.\n",
    "\n",
    "Lets try it with a different argument:"
   ]
  },
  {
   "cell_type": "code",
   "execution_count": null,
   "metadata": {
    "collapsed": false,
    "deletable": true,
    "editable": true
   },
   "outputs": [],
   "source": [
    "(];*.tab;!tab) 3+i.7"
   ]
  },
  {
   "cell_type": "markdown",
   "metadata": {
    "deletable": true,
    "editable": true
   },
   "source": [
    "### (18 of 18) Table Utility\n",
    "Since verb tables are so useful for exploration, J has a standard utility adverb called \"table\" that creates a table bordered by its arguments.\n",
    "\n",
    "For example:"
   ]
  },
  {
   "cell_type": "code",
   "execution_count": null,
   "metadata": {
    "collapsed": false,
    "deletable": true,
    "editable": true
   },
   "outputs": [],
   "source": [
    "!table 3+i.7             NB. right argument only"
   ]
  },
  {
   "cell_type": "code",
   "execution_count": null,
   "metadata": {
    "collapsed": false,
    "deletable": true,
    "editable": true
   },
   "outputs": [],
   "source": [
    "0 1 2 3 !table 3+i.7     NB. left and right arguments"
   ]
  },
  {
   "cell_type": "markdown",
   "metadata": {
    "deletable": true,
    "editable": true
   },
   "source": [
    "### End of Lab"
   ]
  },
  {
   "cell_type": "code",
   "execution_count": null,
   "metadata": {
    "collapsed": false,
    "deletable": true,
    "editable": true
   },
   "outputs": [],
   "source": []
  }
 ],
 "metadata": {
  "kernelspec": {
   "display_name": "J",
   "language": "J",
   "name": "jkernel"
  },
  "language_info": {
   "file_extension": "ijs",
   "mimetype": "text/x-J",
   "name": "J"
  }
 },
 "nbformat": 4,
 "nbformat_minor": 2
}
