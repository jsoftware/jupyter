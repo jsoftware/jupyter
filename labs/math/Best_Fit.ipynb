{
 "cells": [
  {
   "cell_type": "markdown",
   "metadata": {
    "deletable": true,
    "editable": true
   },
   "source": [
    "# J Labs\n",
    "\n",
    "### Best Fit"
   ]
  },
  {
   "cell_type": "markdown",
   "metadata": {
    "deletable": true,
    "editable": true
   },
   "source": [
    "### (1 of 12) Best Fit to a Monomial\n",
    "This lab is based on an article [1] in the Computer Corner section of The College Mathematics Journal.\n",
    "\n",
    "The article deals with two methods of fitting a curve of the form y = f(x) = ax^k to a set of data points using least squares.\n",
    "\n",
    "The original article has numerical examples done with the Mathematica computer package.\n",
    "\n",
    "In this lab we show how to do the computations using the J programming language.\n",
    "\n",
    "[1] Helen Skala:  \"Will the Real Best Fit Curve\n",
    "<code>                  ```Please Stand Up?\"```</code><br>\n",
    "<code>                  ```College Math. Journal```</code><br>\n",
    "<code>                  ```Vol. 27, May 1996```</code><br>"
   ]
  },
  {
   "cell_type": "markdown",
   "metadata": {
    "deletable": true,
    "editable": true
   },
   "source": [
    "### (2 of 12) Two Methods\n",
    "Given a set of data points S = {(x```_```i,y```_```i) | i=1,...,n}, we wish to fit a curve y = f(x) = ax^k.  What are the best values of a and k?  We will select a and k to satisfy a least squares condition.\n",
    "\n",
    "Method 1: linear least squares on the logs of the data Because  log y = log a + k log x, we can try to fit the logs of the data to a straight line with equation y = b + mx where b = log a and m = k. The least squares problem is:\n",
    "\n",
    "<code>    ```minimize sum_{i=1 to n}(b + k log x_i - log y_i)^2```</code><br>\n",
    "\n",
    "Method 2: nonlinear least squares on the original data\n",
    "\n",
    "<code>    ```minimize sum_{i=1 to n}(f(x_i) - y_i)^2```</code><br>\n",
    "\n",
    "where f(x) = ax^k"
   ]
  },
  {
   "cell_type": "markdown",
   "metadata": {
    "deletable": true,
    "editable": true
   },
   "source": [
    "### (3 of 12) Method 1:\n",
    "Let the given data be\n",
    "\n",
    "<code>  ```vx =   1,   2,    3,    4,    5,    10,    20```</code><br>\n",
    "<code>  ```vy = 6.1, 9.2, 14.1, 21.2, 30.3, 105.1, 405.2```</code><br>\n",
    "\n",
    "Compute the logs. We will use the same notation as the article and store the logs in variables xlg and ylg."
   ]
  },
  {
   "cell_type": "code",
   "execution_count": null,
   "metadata": {
    "collapsed": false,
    "deletable": true,
    "editable": true
   },
   "outputs": [],
   "source": [
    "vx =: 1 2 3 4 5 10 20"
   ]
  },
  {
   "cell_type": "code",
   "execution_count": null,
   "metadata": {
    "collapsed": false,
    "deletable": true,
    "editable": true
   },
   "outputs": [],
   "source": [
    "vy =: 6.1 9.2 14.1 21.2 30.3 105.1 405.2"
   ]
  },
  {
   "cell_type": "code",
   "execution_count": null,
   "metadata": {
    "collapsed": false,
    "deletable": true,
    "editable": true
   },
   "outputs": [],
   "source": [
    "log =: ^.   NB. Give the natural log function the name log"
   ]
  },
  {
   "cell_type": "code",
   "execution_count": null,
   "metadata": {
    "collapsed": false,
    "deletable": true,
    "editable": true
   },
   "outputs": [],
   "source": [
    "[xlg =: log vx"
   ]
  },
  {
   "cell_type": "code",
   "execution_count": null,
   "metadata": {
    "collapsed": false,
    "deletable": true,
    "editable": true
   },
   "outputs": [],
   "source": [
    "[ylg =: log vy"
   ]
  },
  {
   "cell_type": "markdown",
   "metadata": {
    "deletable": true,
    "editable": true
   },
   "source": [
    "### (4 of 12) Method 1: (ctd)\n",
    "The formulas for linear least squares are well known. They are quoted in the article and then programmed in Mathematica.\n",
    "\n",
    "Here is the J version: [see below]\n",
    "\n",
    "Thus the best monomial fit is y = 3.74x^1.44 [see below]"
   ]
  },
  {
   "cell_type": "code",
   "execution_count": null,
   "metadata": {
    "collapsed": false,
    "deletable": true,
    "editable": true
   },
   "outputs": [],
   "source": [
    "e =: ^ 1   NB. e = exp(1) is Euler's number"
   ]
  },
  {
   "cell_type": "code",
   "execution_count": null,
   "metadata": {
    "collapsed": false,
    "deletable": true,
    "editable": true
   },
   "outputs": [],
   "source": [
    "n =: #vx    NB. n is the number of data points"
   ]
  },
  {
   "cell_type": "code",
   "execution_count": null,
   "metadata": {
    "collapsed": false,
    "deletable": true,
    "editable": true
   },
   "outputs": [],
   "source": [
    "num =: (+/xlg*ylg)-(+/xlg)*(+/ylg)%n  NB. +/ is summation"
   ]
  },
  {
   "cell_type": "code",
   "execution_count": null,
   "metadata": {
    "collapsed": false,
    "deletable": true,
    "editable": true
   },
   "outputs": [],
   "source": [
    "den =: (+/xlg*xlg)-((+/xlg)^2)%n      NB. % is division"
   ]
  },
  {
   "cell_type": "code",
   "execution_count": null,
   "metadata": {
    "collapsed": false,
    "deletable": true,
    "editable": true
   },
   "outputs": [],
   "source": [
    "[k =: num%den"
   ]
  },
  {
   "cell_type": "code",
   "execution_count": null,
   "metadata": {
    "collapsed": false,
    "deletable": true,
    "editable": true
   },
   "outputs": [],
   "source": [
    "b =: ((+/ylg)-k*(+/xlg))%n"
   ]
  },
  {
   "cell_type": "code",
   "execution_count": null,
   "metadata": {
    "collapsed": false,
    "deletable": true,
    "editable": true
   },
   "outputs": [],
   "source": [
    "[a =: e^b"
   ]
  },
  {
   "cell_type": "markdown",
   "metadata": {
    "deletable": true,
    "editable": true
   },
   "source": [
    "### (5 of 12) Method 1: (ctd)\n",
    "To check the quality of the fit, we can calculate the points predicted by the curve\n",
    "\n",
    "<code>   ```yp = ax^k```</code><br>\n",
    "\n",
    "and then sum of squares of the errors\n",
    "\n",
    "<code>   ```yp-vy```</code><br>\n",
    "\n",
    "The value, over 15,000, is quite large. [see below]\n",
    "\n",
    "At any time, you can interact with the lab. For example, to see the predicted values just type\n",
    "\n",
    "<code>   ```yp```</code><br>\n",
    "\n",
    "To see a list of the errors, type\n",
    "\n",
    "<code>   ```yp-vy```</code><br>"
   ]
  },
  {
   "cell_type": "code",
   "execution_count": null,
   "metadata": {
    "collapsed": false,
    "deletable": true,
    "editable": true
   },
   "outputs": [],
   "source": [
    "yp =: a*vx^k"
   ]
  },
  {
   "cell_type": "code",
   "execution_count": null,
   "metadata": {
    "collapsed": false,
    "deletable": true,
    "editable": true
   },
   "outputs": [],
   "source": [
    "+/(yp-vy)^2"
   ]
  },
  {
   "cell_type": "markdown",
   "metadata": {
    "deletable": true,
    "editable": true
   },
   "source": [
    "### (6 of 12) Shortcut for Method 1:\n",
    "J has a built-in linear least squares facility which we can use as an alternative to the formulas given above.\n",
    "\n",
    "Consider the matrix equation AX = B where A and B are given matrices and X is an unknown matrix.  If A is a square nonsingular matrix then X = A^(-1)B.  In J, the above computation of X from A and B would be written as\n",
    "\n",
    "<code>   ```X =: B %. A```</code><br>\n",
    "\n",
    "and the operation \"%.\" is called \"matrix divide\".  More generally, if A has more rows than columns then B %. A is the least squares best approximation to a solution X of AX = B.\n",
    "\n",
    "With the use of matrix divide we can get a useful shortcut in method 1."
   ]
  },
  {
   "cell_type": "markdown",
   "metadata": {
    "deletable": true,
    "editable": true
   },
   "source": [
    "### (7 of 12) Shortcut for Method 1: (ctd)\n",
    "In our case, we have n equations of the form\n",
    "\n",
    "<code>         ```(1)b + (log x_i)k = y_i```</code><br>\n",
    "\n",
    "in the two unknowns b and k.  Thus to apply matrix divide:\n",
    "\n",
    "<code>    ```A = [1, log x_i],   X = [b k],   and B = [y_i]```</code><br>\n",
    "\n",
    "[The J code is shown below. Note that we get the same values for a and k that we had previously obtained.]"
   ]
  },
  {
   "cell_type": "code",
   "execution_count": null,
   "metadata": {
    "collapsed": false,
    "deletable": true,
    "editable": true
   },
   "outputs": [],
   "source": [
    "A =: 1,.xlg"
   ]
  },
  {
   "cell_type": "code",
   "execution_count": null,
   "metadata": {
    "collapsed": false,
    "deletable": true,
    "editable": true
   },
   "outputs": [],
   "source": [
    "'b k' =: ylg %. A"
   ]
  },
  {
   "cell_type": "code",
   "execution_count": null,
   "metadata": {
    "collapsed": false,
    "deletable": true,
    "editable": true
   },
   "outputs": [],
   "source": [
    "[a =: e^b"
   ]
  },
  {
   "cell_type": "code",
   "execution_count": null,
   "metadata": {
    "collapsed": false,
    "deletable": true,
    "editable": true
   },
   "outputs": [],
   "source": [
    "k"
   ]
  },
  {
   "cell_type": "markdown",
   "metadata": {
    "deletable": true,
    "editable": true
   },
   "source": [
    "### (8 of 12) Method 2:\n",
    "For the nonlinear least squares version, we cannot rely on standard formulas; but we can minimize using calculus.\n",
    "\n",
    "We regard the sum of squares as a function of two variables, a and k.  To minimize this function, we set the partial derivatives with respect to a and k equal to zero.  This gives two equations for the two unknowns a and k.\n",
    "\n",
    "In the article, the first equation i.e. from the partial with respect to a, is solved algebraically for a in terms of k. The resulting expression is plugged into the second equation to give a single equation for k.  This equation is then solved numerically using the Mathematica program FindRoot. Below is the J version for this approach."
   ]
  },
  {
   "cell_type": "markdown",
   "metadata": {
    "deletable": true,
    "editable": true
   },
   "source": [
    "### (9 of 12) Method 2: (ctd)\n",
    "First we create a program FindRoot, an implementation of Newtons Method in J.  Newtons Method applied to f involves iterating the function\n",
    "\n",
    "<code>   ```N(x) = x - f(x)/f'(x)```</code><br>\n",
    "\n",
    "starting with an initial approximation x0 to the root.  Thus for some power p,\n",
    "\n",
    "<code>   ```N^p(x0)```</code><br>\n",
    "\n",
    "is an acceptable approximation to the root.\n",
    "\n",
    "In J, a function f is called a \"verb\". We define an \"adverb\" \"Nwtn\" that modifies f so that \"f Nwtn\" is the function N.\n",
    "\n",
    "We then iterate an infinite number of times. J will automatically stop the iteration when successive approximations agree to machine tolerance."
   ]
  },
  {
   "cell_type": "code",
   "execution_count": null,
   "metadata": {
    "collapsed": false,
    "deletable": true,
    "editable": true
   },
   "outputs": [],
   "source": [
    "Nwtn =: adverb def 'y - (u y)%(u D.1 y)'"
   ]
  },
  {
   "cell_type": "markdown",
   "metadata": {
    "deletable": true,
    "editable": true
   },
   "source": [
    "f Nwtn x   does one iteration of Newtons method\n",
    "y represents the right argument x\n",
    "u represents the left argument f\n",
    "D.1 is first derivative"
   ]
  },
  {
   "cell_type": "code",
   "execution_count": null,
   "metadata": {
    "collapsed": false,
    "deletable": true,
    "editable": true
   },
   "outputs": [],
   "source": [
    "FindRoot =: adverb def 'u Nwtn ^: _'"
   ]
  },
  {
   "cell_type": "markdown",
   "metadata": {
    "deletable": true,
    "editable": true
   },
   "source": [
    "^: is power of a function (iteration)\n",
    "```_``` is the 'number' infinity"
   ]
  },
  {
   "cell_type": "markdown",
   "metadata": {
    "deletable": true,
    "editable": true
   },
   "source": [
    "### (10 of 12) Method 2: (ctd)\n",
    "Next we define the function f according to the formula developed in the article.  We want to solve f(k) = 0.\n",
    "\n",
    "We run the FindRoot procedure starting at 2, i.e. as was done with Mathematica in the article.  The best fit curve is y = 1.36x^1.90 and the error criterion is 66.5 which is much better than the result of method 1. [See below]"
   ]
  },
  {
   "cell_type": "code",
   "execution_count": null,
   "metadata": {
    "collapsed": false,
    "deletable": true,
    "editable": true
   },
   "outputs": [],
   "source": [
    "f =: verb define\n",
    "k =. y  NB. y is the argument of f, renamed (local) to k\n",
    "c =. ((+/vy*vx^k)%(+/vx^(2*k)))*vx^k\n",
    "+/(c-vy)*c*xlg\n",
    ")"
   ]
  },
  {
   "cell_type": "code",
   "execution_count": null,
   "metadata": {
    "collapsed": false,
    "deletable": true,
    "editable": true
   },
   "outputs": [],
   "source": [
    "[k =: f FindRoot 2"
   ]
  },
  {
   "cell_type": "code",
   "execution_count": null,
   "metadata": {
    "collapsed": false,
    "deletable": true,
    "editable": true
   },
   "outputs": [],
   "source": [
    "[a =: (+/vy*vx^k)%(+/vx^2*k)"
   ]
  },
  {
   "cell_type": "code",
   "execution_count": null,
   "metadata": {
    "collapsed": false,
    "deletable": true,
    "editable": true
   },
   "outputs": [],
   "source": [
    "yp =: a*vx^k"
   ]
  },
  {
   "cell_type": "code",
   "execution_count": null,
   "metadata": {
    "collapsed": false,
    "deletable": true,
    "editable": true
   },
   "outputs": [],
   "source": [
    "+/(yp-vy)^2"
   ]
  },
  {
   "cell_type": "markdown",
   "metadata": {
    "deletable": true,
    "editable": true
   },
   "source": [
    "### (11 of 12) Shortcut for Method 2:\n",
    "The article solved the nonlinear least squares problem by a mixture of algebraic work and numerical computer code. The purpose of the algebra was to reduce two equations in two unknowns to one equation in one unknown.\n",
    "\n",
    "It is possible to solve the problem directly on the computer by applying the Newton-Raphson method to the pair of equations.  The only change necessary in the FindRoot program is to replace % (divide) by %. (matrix divide) in the Nwtn adverb.  The details are shown below."
   ]
  },
  {
   "cell_type": "code",
   "execution_count": null,
   "metadata": {
    "collapsed": false,
    "deletable": true,
    "editable": true
   },
   "outputs": [],
   "source": [
    "Nwtn =: adverb def 'y - (u y)%.(u D.1 y)'"
   ]
  },
  {
   "cell_type": "markdown",
   "metadata": {
    "deletable": true,
    "editable": true
   },
   "source": [
    "f D.1 is a vector of partial of partial derivatives\n",
    "f D.1 D.1 is Hessian matrix of partial derivatives"
   ]
  },
  {
   "cell_type": "code",
   "execution_count": null,
   "metadata": {
    "collapsed": false,
    "deletable": true,
    "editable": true
   },
   "outputs": [],
   "source": [
    "f =: verb define\n",
    "'a k' =. y\n",
    "yp =. a*vx^k\n",
    "+/(yp-vy)^2\n",
    ")"
   ]
  },
  {
   "cell_type": "code",
   "execution_count": null,
   "metadata": {
    "collapsed": false,
    "deletable": true,
    "editable": true
   },
   "outputs": [],
   "source": [
    "['a k' =: f D.1 FindRoot 1 2"
   ]
  },
  {
   "cell_type": "markdown",
   "metadata": {
    "deletable": true,
    "editable": true
   },
   "source": [
    "### (12 of 12) Some Limitations:\n",
    "We have presented FindRoot as an implementation of Newtons Method.  Unfortunately, Newtons Method (especially the higher dimensional version) is very sensitive to the initial approximation.  For example, the statement\n",
    "\n",
    "<code>   ```['a k' =: f D.1 FindRoot 3 2```</code><br>\n",
    "\n",
    "will not converge to finite values.\n",
    "\n",
    "We will not go into the general topic of algorithms for solving systems of nonlinear equations; but there is a simple modification of Newtons Method that helps us - we can reduce the step length of Newtons Method. This makes it slower but more stable.\n",
    "\n",
    "Let alpha be a parameter between zero and one. For alpha=1 we have the normal step length; for alpha=0.5 the step length is halved."
   ]
  },
  {
   "cell_type": "code",
   "execution_count": null,
   "metadata": {
    "collapsed": false,
    "deletable": true,
    "editable": true
   },
   "outputs": [],
   "source": [
    "alpha =: 0.2"
   ]
  },
  {
   "cell_type": "code",
   "execution_count": null,
   "metadata": {
    "collapsed": false,
    "deletable": true,
    "editable": true
   },
   "outputs": [],
   "source": [
    "Nwtn =: adverb def 'y - alpha*(u y)%.(u D.1 y)'"
   ]
  },
  {
   "cell_type": "markdown",
   "metadata": {
    "deletable": true,
    "editable": true
   },
   "source": [
    "Search for the nonlinear solution starting\n",
    "at the 'linear' solution found in Method 1"
   ]
  },
  {
   "cell_type": "code",
   "execution_count": null,
   "metadata": {
    "collapsed": false,
    "deletable": true,
    "editable": true
   },
   "outputs": [],
   "source": [
    "['a k' =: f D.1 FindRoot 3.7 1.4"
   ]
  },
  {
   "cell_type": "markdown",
   "metadata": {
    "deletable": true,
    "editable": true
   },
   "source": [
    "### End of Lab"
   ]
  }
 ],
 "metadata": {
  "kernelspec": {
   "display_name": "J",
   "language": "J",
   "name": "jkernel"
  },
  "language_info": {
   "file_extension": "ijs",
   "mimetype": "text/x-J",
   "name": "J"
  }
 },
 "nbformat": 4,
 "nbformat_minor": 2
}
