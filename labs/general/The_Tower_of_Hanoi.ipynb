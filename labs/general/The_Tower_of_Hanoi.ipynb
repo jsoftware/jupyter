{
 "cells": [
  {
   "cell_type": "markdown",
   "metadata": {
    "deletable": true,
    "editable": true
   },
   "source": [
    "# J Labs\n",
    "\n",
    "### The Tower of Hanoi"
   ]
  },
  {
   "cell_type": "markdown",
   "metadata": {
    "deletable": true,
    "editable": true
   },
   "source": [
    "### (1 of 9) The Problem\n",
    "The Tower of Hanoi problem is to move a set of n\n",
    "different-sized disks from one peg to another,\n",
    "moving one disk at a time, using an intermediate\n",
    "peg if necessary.  At all times no larger disk may\n",
    "sit on top of a smaller disk.\n",
    "\n",
    "For example, moving 3 disks from peg 0 to peg 1\n",
    "can be done as follows:\n",
    "\n",
    "<code> ```move disk 0 from peg 0 to peg 1```</code><br>\n",
    "<code> ```move disk 1 from peg 0 to peg 2```</code><br>\n",
    "<code> ```move disk 0 from peg 1 to peg 2```</code><br>\n",
    "<code> ```move disk 2 from peg 0 to peg 1```</code><br>\n",
    "<code> ```move disk 0 from peg 2 to peg 0```</code><br>\n",
    "<code> ```move disk 1 from peg 2 to peg 1```</code><br>\n",
    "<code> ```move disk 0 from peg 0 to peg 1```</code><br>\n",
    "\n",
    "The description of the moves can be shortened if\n",
    "we observed that in moving a disk from peg A to\n",
    "peg B, it is always the top disk on peg A that\n",
    "is moved.  Thus the 3-disk problem can be solved\n",
    "as follows:\n",
    "\n",
    "<code> ```0 1```</code><br>\n",
    "<code> ```0 2```</code><br>\n",
    "<code> ```1 2```</code><br>\n",
    "<code> ```0 1```</code><br>\n",
    "<code> ```2 0```</code><br>\n",
    "<code> ```2 1```</code><br>\n",
    "<code> ```0 1```</code><br>\n",
    "\n",
    "Legend has it that a group of priests has been\n",
    "solving the 64-disk problem since the beginning\n",
    "of time, and when they finish, the world will\n",
    "come to an end."
   ]
  },
  {
   "cell_type": "markdown",
   "metadata": {
    "deletable": true,
    "editable": true
   },
   "source": [
    "### (2 of 9) An Initial Solution\n",
    "There is a simple recursive solution to the n-disk\n",
    "problem:  First, move disks 0 to n-2 from peg 0 to\n",
    "peg 2, then move disk n-1 from peg 0 to peg 1,\n",
    "then move disks 0 to n-2 from peg 2 to peg 1.\n",
    "If there is just one disk, the one disk can be\n",
    "moved from peg 0 to peg 1 straightaway.\n",
    "\n",
    "This can be implemented as a dyadic verb: the right\n",
    "argument is the number of disks; the left argument\n",
    "are 3 integers of the pegs (from, to, via)."
   ]
  },
  {
   "cell_type": "code",
   "execution_count": null,
   "metadata": {
    "collapsed": false,
    "deletable": true,
    "editable": true
   },
   "outputs": [],
   "source": [
    "H=: 4 : 0\n",
    " if. 1>:y do.\n",
    "  (y,2)$x\n",
    " else.\n",
    "  ((0 2 1{x) H y-1), (2{.x), ((2 1 0{x) H y-1)\n",
    " end.\n",
    ")"
   ]
  },
  {
   "cell_type": "code",
   "execution_count": null,
   "metadata": {
    "collapsed": false,
    "deletable": true,
    "editable": true
   },
   "outputs": [],
   "source": [
    "0 1 2 H 3"
   ]
  },
  {
   "cell_type": "markdown",
   "metadata": {
    "deletable": true,
    "editable": true
   },
   "source": [
    "### (3 of 9) An Initial Solution (ctd)\n",
    "From the definition of H, it is easy to see that\n",
    "the n-disk problem requires <:2^n moves.  If n=1,\n",
    "there is one move (1=<:2^1).  If n=k-1 required\n",
    "<:2^k-1 moves, then n=k requires the following\n",
    "numbers of moves:\n",
    "\n",
    "<code> ```<:2^k-1    ((0 2 1{x) H y-1)```</code><br>\n",
    "<code> ```1          (2{.x)```</code><br>\n",
    "<code> ```<:2^k-1    ((2 1 0{x) H y-1)```</code><br>\n",
    "\n",
    "for a total of <:2^k moves.  A similar argument\n",
    "shows that the n-disk problem requires <:2^n calls\n",
    "of the verb H ."
   ]
  },
  {
   "cell_type": "code",
   "execution_count": null,
   "metadata": {
    "collapsed": false,
    "deletable": true,
    "editable": true
   },
   "outputs": [],
   "source": [
    "0 1 2 #@H\"1 0 i.10"
   ]
  },
  {
   "cell_type": "code",
   "execution_count": null,
   "metadata": {
    "collapsed": false,
    "deletable": true,
    "editable": true
   },
   "outputs": [],
   "source": [
    "<: 2 ^ i.10"
   ]
  },
  {
   "cell_type": "markdown",
   "metadata": {
    "deletable": true,
    "editable": true
   },
   "source": [
    "### (4 of 9) Singly Recursive Solutions\n",
    "The two recursive steps in H differ only in the\n",
    "labelling of the pegs. Therefore we can replace\n",
    "them with a single recursive call, and do two\n",
    "relabellings of the pegs to get the effect of two\n",
    "recursions.  That is verb H1 below.\n",
    "\n",
    "Moreover, in verb H1 the left argument is unchanged\n",
    "in the recursion; that is, the left argument is\n",
    "always 0 1 2, and can be elided.\n",
    "\n",
    "We saw previously that on the n-disk problem the\n",
    "doubly recursive H required <:2^n calls.  In the\n",
    "singly recursive H1 and H2, the n-disk problem\n",
    "requires n calls.  Benchmarks on the 10-disk\n",
    "problem demonstrate the difference this makes."
   ]
  },
  {
   "cell_type": "code",
   "execution_count": null,
   "metadata": {
    "collapsed": false,
    "deletable": true,
    "editable": true
   },
   "outputs": [],
   "source": [
    "H1=: 4 : 0\n",
    " if. 1>:y do.\n",
    "  (y,2)$0 1{x\n",
    " else.\n",
    "  ({&0 2 1 , 0 1\"_ , {&2 1 0) x H1 y-1\n",
    " end.\n",
    ")"
   ]
  },
  {
   "cell_type": "code",
   "execution_count": null,
   "metadata": {
    "collapsed": false,
    "deletable": true,
    "editable": true
   },
   "outputs": [],
   "source": [
    "H2=: 3 : 0\n",
    " if. 1>:y do.\n",
    "  i.y,2\n",
    " else.\n",
    "  ({&0 2 1 , 0 1\"_ , {&2 1 0) H2 y-1\n",
    " end.\n",
    ")"
   ]
  },
  {
   "cell_type": "code",
   "execution_count": null,
   "metadata": {
    "collapsed": false,
    "deletable": true,
    "editable": true
   },
   "outputs": [],
   "source": [
    "0 1 2 (H -: H1)\"1 0 i.10"
   ]
  },
  {
   "cell_type": "code",
   "execution_count": null,
   "metadata": {
    "collapsed": false,
    "deletable": true,
    "editable": true
   },
   "outputs": [],
   "source": [
    "(0 1 2&H -: H2)\"0 i.10"
   ]
  },
  {
   "cell_type": "code",
   "execution_count": null,
   "metadata": {
    "collapsed": false,
    "deletable": true,
    "editable": true
   },
   "outputs": [],
   "source": [
    "ts=: 6!:2 , 7!:2@]   NB. time and space"
   ]
  },
  {
   "cell_type": "code",
   "execution_count": null,
   "metadata": {
    "collapsed": false,
    "deletable": true,
    "editable": true
   },
   "outputs": [],
   "source": [
    "ts '0 1 2 H 10'"
   ]
  },
  {
   "cell_type": "code",
   "execution_count": null,
   "metadata": {
    "collapsed": false,
    "deletable": true,
    "editable": true
   },
   "outputs": [],
   "source": [
    "ts '0 1 2 H1 10'"
   ]
  },
  {
   "cell_type": "code",
   "execution_count": null,
   "metadata": {
    "collapsed": false,
    "deletable": true,
    "editable": true
   },
   "outputs": [],
   "source": [
    "ts 'H2 10'"
   ]
  },
  {
   "cell_type": "markdown",
   "metadata": {
    "deletable": true,
    "editable": true
   },
   "source": [
    "### (5 of 9) Non-Recursive Solutions\n",
    "We now proceed to derive non-recursive solutions\n",
    "to the problem.\n",
    "\n",
    "The results of verbs H, H1, and H2 are rows of the\n",
    "6-row matrix A (the 6 different ways of moving from\n",
    "peg i to peg j where i and j can be 0, 1, or 2).\n",
    "Thus a more efficient representation for the\n",
    "solutions is to encode the moves as row indices\n",
    "of A, the integers from 0 to 5."
   ]
  },
  {
   "cell_type": "code",
   "execution_count": null,
   "metadata": {
    "collapsed": false,
    "deletable": true,
    "editable": true
   },
   "outputs": [],
   "source": [
    "A=: 6 2 $ 0 1 0 2 1 0 1 2 2 0 2 1"
   ]
  },
  {
   "cell_type": "code",
   "execution_count": null,
   "metadata": {
    "collapsed": false,
    "deletable": true,
    "editable": true
   },
   "outputs": [],
   "source": [
    "A"
   ]
  },
  {
   "cell_type": "code",
   "execution_count": null,
   "metadata": {
    "collapsed": false,
    "deletable": true,
    "editable": true
   },
   "outputs": [],
   "source": [
    "A i. H2 1"
   ]
  },
  {
   "cell_type": "code",
   "execution_count": null,
   "metadata": {
    "collapsed": false,
    "deletable": true,
    "editable": true
   },
   "outputs": [],
   "source": [
    "A i. H2 2"
   ]
  },
  {
   "cell_type": "code",
   "execution_count": null,
   "metadata": {
    "collapsed": false,
    "deletable": true,
    "editable": true
   },
   "outputs": [],
   "source": [
    "A i. H2 3"
   ]
  },
  {
   "cell_type": "code",
   "execution_count": null,
   "metadata": {
    "collapsed": false,
    "deletable": true,
    "editable": true
   },
   "outputs": [],
   "source": [
    "A i. H2 4"
   ]
  },
  {
   "cell_type": "code",
   "execution_count": null,
   "metadata": {
    "collapsed": false,
    "deletable": true,
    "editable": true
   },
   "outputs": [],
   "source": [
    "A i. H2 5"
   ]
  },
  {
   "cell_type": "markdown",
   "metadata": {
    "deletable": true,
    "editable": true
   },
   "source": [
    "### (6 of 9) Non-Recursive Solutions (ctd)\n",
    "Judicious alignment of the indices reveals a pattern:\n",
    "\n",
    "<code> ```1:   0```</code><br>\n",
    "<code> ```2: 1 0 5```</code><br>\n",
    "\n",
    "<code> ```2:   1   0   5```</code><br>\n",
    "<code> ```3: 0 1 3 0 4 5 0```</code><br>\n",
    "\n",
    "<code> ```3:   0   1   3   0   4   5   0```</code><br>\n",
    "<code> ```4: 1 0 5 1 2 3 1 0 5 4 2 5 1 0 5```</code><br>\n",
    "\n",
    "<code> ```4:   1   0   5   1   2   3   1   0   5   4   2   5   1   0   5```</code><br>\n",
    "<code> ```5: 0 1 3 0 4 5 0 1 3 2 4 3 0 1 3 0 4 5 0 4 3 2 4 5 0 1 3 0 4 5 0```</code><br>\n",
    "\n",
    "To get from  A i. H2 n-1  to  A i. H2 n , merge\n",
    "(intersperse) the result for n with 1 5 2 if n is\n",
    "even and with 0 3 4 if n is odd.  Thus:"
   ]
  },
  {
   "cell_type": "code",
   "execution_count": null,
   "metadata": {
    "collapsed": false,
    "deletable": true,
    "editable": true
   },
   "outputs": [],
   "source": [
    "H3=: 3 : 0\n",
    " if. 1>:y do.\n",
    "  y$0\n",
    " else.\n",
    "  }: , ((2^y-1)$(2|y){1 5 2,:0 3 4) ,. 0,~H3 y-1\n",
    " end.\n",
    ")"
   ]
  },
  {
   "cell_type": "code",
   "execution_count": null,
   "metadata": {
    "collapsed": false,
    "deletable": true,
    "editable": true
   },
   "outputs": [],
   "source": [
    "H3 3"
   ]
  },
  {
   "cell_type": "code",
   "execution_count": null,
   "metadata": {
    "collapsed": false,
    "deletable": true,
    "editable": true
   },
   "outputs": [],
   "source": [
    "(A i. H2 3) -: H3 3"
   ]
  },
  {
   "cell_type": "code",
   "execution_count": null,
   "metadata": {
    "collapsed": false,
    "deletable": true,
    "editable": true
   },
   "outputs": [],
   "source": [
    "(A&i.@H2 -: H3)\"0 i.10"
   ]
  },
  {
   "cell_type": "markdown",
   "metadata": {
    "deletable": true,
    "editable": true
   },
   "source": [
    "### (7 of 9) Non-Recursive Solutions (ctd)\n",
    "H3 n works by appending an atom to the result of\n",
    "H3 n-1 ; then stitching a list, repetitions of\n",
    "1 5 2 or 0 3 4; then ravelling; then dropping the\n",
    "last (previously appended) atom.\n",
    "\n",
    "The list of numbers to be stitched (repetitions of\n",
    "0 3 4 or 1 5 2) depends only on n, and on H3 n-1\n",
    "not at all.  This suggests a different method of\n",
    "directing the computation:  Compute the lists xi\n",
    "of numbers to be stitched for 1, 2, 3, ..., up to n,\n",
    "and then apply an appropriate verb f between them:\n",
    "\n",
    "<code> ```xn f ... f x3 f x2 f x1```</code><br>\n",
    "<code> ```> f&.> / xn ; ... ; x3 ; x2 ; x1```</code><br>\n",
    "\n",
    "Moreover, we can avoid incorporating into f the\n",
    "appending and dropping of atoms, if we start out\n",
    "with an \"extra\" atom and drop it only at the end:\n",
    "\n",
    "<code> ```> f&.> / xn ; ... ; x3 ; x2 ; x1```</code><br>\n",
    "<code> ```}: > g&.> / xn ; ... ; x3 ; x2 ; x1 ; atom```</code><br>\n",
    "\n",
    "In H4 below, the verb g is ,@,. (ravel stitch)."
   ]
  },
  {
   "cell_type": "code",
   "execution_count": null,
   "metadata": {
    "collapsed": false,
    "deletable": true,
    "editable": true
   },
   "outputs": [],
   "source": [
    "H4 =: }: @ > @ (,@,.&.>/) @ (< ,~ 2&^@i. $&.>&|. $&(0 3 4;1 5 2))"
   ]
  },
  {
   "cell_type": "code",
   "execution_count": null,
   "metadata": {
    "collapsed": false,
    "deletable": true,
    "editable": true
   },
   "outputs": [],
   "source": [
    "(H3 -: H4)\"0 i.10"
   ]
  },
  {
   "cell_type": "code",
   "execution_count": null,
   "metadata": {
    "collapsed": false,
    "deletable": true,
    "editable": true
   },
   "outputs": [],
   "source": [
    "arg=: < ,~ 2&^@i. $&.>&|. $&(0 3 4;1 5 2)"
   ]
  },
  {
   "cell_type": "code",
   "execution_count": null,
   "metadata": {
    "collapsed": false,
    "deletable": true,
    "editable": true
   },
   "outputs": [],
   "source": [
    "arg 1"
   ]
  },
  {
   "cell_type": "code",
   "execution_count": null,
   "metadata": {
    "collapsed": false,
    "deletable": true,
    "editable": true
   },
   "outputs": [],
   "source": [
    "arg 2"
   ]
  },
  {
   "cell_type": "code",
   "execution_count": null,
   "metadata": {
    "collapsed": false,
    "deletable": true,
    "editable": true
   },
   "outputs": [],
   "source": [
    "arg 3"
   ]
  },
  {
   "cell_type": "code",
   "execution_count": null,
   "metadata": {
    "collapsed": false,
    "deletable": true,
    "editable": true
   },
   "outputs": [],
   "source": [
    "arg 4"
   ]
  },
  {
   "cell_type": "code",
   "execution_count": null,
   "metadata": {
    "collapsed": false,
    "deletable": true,
    "editable": true
   },
   "outputs": [],
   "source": [
    "arg 5"
   ]
  },
  {
   "cell_type": "markdown",
   "metadata": {
    "deletable": true,
    "editable": true
   },
   "source": [
    "### (8 of 9) Non-Recursive Solutions (ctd)\n",
    "There is another possibility. The pattern in H4 is:\n",
    "\n",
    "<code> ```}: > g&.> / xn ; ... ; x3 ; x2 ; x1 ; atom```</code><br>\n",
    "\n",
    "In an intermediate stage, when g is being applied,\n",
    "\n",
    "<code> ```xi g yi```</code><br>\n",
    "\n",
    "g \"knows\" from yi alone what xi has to be:\n",
    "the length of yi determines the length of xi,\n",
    "and the leading atom of yi (0 or 1) determines\n",
    "whether 1 5 2 or 0 3 4 should be ravel-stitched.\n",
    "This suggests another solution: a monad is applied\n",
    "n times to the atom 1."
   ]
  },
  {
   "cell_type": "code",
   "execution_count": null,
   "metadata": {
    "collapsed": false,
    "deletable": true,
    "editable": true
   },
   "outputs": [],
   "source": [
    "H5=: [: }: (,@,.~ # $ {. { (1 5 2,:0 3 4)\"_)^:(]`1:)"
   ]
  },
  {
   "cell_type": "code",
   "execution_count": null,
   "metadata": {
    "collapsed": false,
    "deletable": true,
    "editable": true
   },
   "outputs": [],
   "source": [
    "(H4 -: H5)\"0 i.10"
   ]
  },
  {
   "cell_type": "code",
   "execution_count": null,
   "metadata": {
    "collapsed": false,
    "deletable": true,
    "editable": true
   },
   "outputs": [],
   "source": [
    "rsa=: ,@,.~ # $ {. { (1 5 2,:0 3 4)\"_"
   ]
  },
  {
   "cell_type": "code",
   "execution_count": null,
   "metadata": {
    "collapsed": false,
    "deletable": true,
    "editable": true
   },
   "outputs": [],
   "source": [
    "rsa 1"
   ]
  },
  {
   "cell_type": "code",
   "execution_count": null,
   "metadata": {
    "collapsed": false,
    "deletable": true,
    "editable": true
   },
   "outputs": [],
   "source": [
    "rsa rsa 1"
   ]
  },
  {
   "cell_type": "code",
   "execution_count": null,
   "metadata": {
    "collapsed": false,
    "deletable": true,
    "editable": true
   },
   "outputs": [],
   "source": [
    "rsa rsa rsa 1"
   ]
  },
  {
   "cell_type": "code",
   "execution_count": null,
   "metadata": {
    "collapsed": false,
    "deletable": true,
    "editable": true
   },
   "outputs": [],
   "source": [
    "rsa^:(3) 1"
   ]
  },
  {
   "cell_type": "code",
   "execution_count": null,
   "metadata": {
    "collapsed": false,
    "deletable": true,
    "editable": true
   },
   "outputs": [],
   "source": [
    "H5 3"
   ]
  },
  {
   "cell_type": "markdown",
   "metadata": {
    "deletable": true,
    "editable": true
   },
   "source": [
    "### (9 of 9) Conclusion\n",
    "The Tower of Hanoi problem can be solved in a\n",
    "variety of ways, with a wide variation in efficiency.\n",
    "\n",
    "<code> ```H   double recursion```</code><br>\n",
    "<code> ```H1  single recursion```</code><br>\n",
    "<code> ```H2  single recursion monad```</code><br>\n",
    "<code> ```H3  single recursion, atomic representation```</code><br>\n",
    "<code> ```H4  non-recursive, insert```</code><br>\n",
    "<code> ```H5  non-recursive, power```</code><br>"
   ]
  },
  {
   "cell_type": "code",
   "execution_count": null,
   "metadata": {
    "collapsed": false,
    "deletable": true,
    "editable": true
   },
   "outputs": [],
   "source": [
    "0j8 0 \": ts;._1 '/0 1 2 H  10/0 1 2 H1 10/H2 10/H3 10/H4 10/H5 10'"
   ]
  },
  {
   "cell_type": "markdown",
   "metadata": {
    "deletable": true,
    "editable": true
   },
   "source": [
    "### End of Lab"
   ]
  },
  {
   "cell_type": "code",
   "execution_count": null,
   "metadata": {
    "collapsed": false,
    "deletable": true,
    "editable": true
   },
   "outputs": [],
   "source": []
  }
 ],
 "metadata": {
  "kernelspec": {
   "display_name": "J",
   "language": "J",
   "name": "jkernel"
  },
  "language_info": {
   "file_extension": "ijs",
   "mimetype": "text/x-J",
   "name": "J"
  }
 },
 "nbformat": 4,
 "nbformat_minor": 2
}
