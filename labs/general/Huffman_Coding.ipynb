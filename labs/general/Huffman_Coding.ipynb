{
 "cells": [
  {
   "cell_type": "markdown",
   "metadata": {
    "deletable": true,
    "editable": true
   },
   "source": [
    "# J Labs\n",
    "\n",
    "### Huffman Coding"
   ]
  },
  {
   "cell_type": "markdown",
   "metadata": {
    "deletable": true,
    "editable": true
   },
   "source": [
    "### (1 of 8) Introduction\n",
    "\n",
    "Huffman coding assigns codes to words in a text based on the\n",
    "frequency (probability, weight) of occurrence of the words,\n",
    "to reduce the space needed to represent the text.  It exploits\n",
    "the disparity in word frequencies by assigning short codes\n",
    "to the more frequently occurring words, and conversely longer\n",
    "codes to the less frequently occurring words.\n",
    "\n",
    "A simplified version is presented here where the \"words\" are\n",
    "letters and codes are binary (lists of 0s and 1s)."
   ]
  },
  {
   "cell_type": "markdown",
   "metadata": {
    "deletable": true,
    "editable": true
   },
   "source": [
    "### (2 of 8) Encoding\n",
    "\n",
    "The assigning of codes is done by constructing a binary tree\n",
    "with minimum weighted path lengths with the words at the\n",
    "leaves.  The paths are the codes.\n",
    "\n",
    "The method is due to David A. Huffman (Kenneth E. Iverson, A\n",
    "Programming Language, Wiley, 1962, Section 3.4, Example 3.2;\n",
    "Donald Knuth, The Art of Computer Programming, Volume 1,\n",
    "Addison-Wesley, 1973, Section 2.3.4.5).  The main logic is\n",
    "embodied in the recursive verb hc below.  The arguments are a\n",
    "list of weights and a list of the corresponding subtrees.\n",
    "hc takes the two subtrees with the smallest weights and makes\n",
    "a new subtree from them, whose weight is the sum of the two\n",
    "weights.  Initially the weights are the original frequencies\n",
    "and the subtrees are the original words.  The recursion stops\n",
    "when there is just one subtree (and one weight)."
   ]
  },
  {
   "cell_type": "code",
   "execution_count": null,
   "metadata": {
    "collapsed": false,
    "deletable": true,
    "editable": true
   },
   "outputs": [],
   "source": [
    "hc=: 4 : 0\n",
    " if. 1=#x do. y\n",
    " else. ((i{x),+/j{x) hc (i{y),<j{y [ i=. (i.#x) -. j=. 2{./:x end.\n",
    ")"
   ]
  },
  {
   "cell_type": "code",
   "execution_count": null,
   "metadata": {
    "collapsed": false,
    "deletable": true,
    "editable": true
   },
   "outputs": [],
   "source": [
    "hcodes=: 4 : 0\n",
    " assert. x -:&$ y            NB. weights and words have same shape\n",
    " assert. (0<:x) *. 1=#$x     NB. weights are non-negative\n",
    " assert. 1 >: L.y            NB. words are boxed not more than once\n",
    " w=. ,&.> y                  NB. standardized words\n",
    " assert. w -: ~.w            NB. words are unique\n",
    " t=. 0 {:: x hc w            NB. minimal weight binary tree\n",
    " ((< S: 0 t) i. w) { <@(1&=)@; S: 1 {:: t\n",
    ")"
   ]
  },
  {
   "cell_type": "markdown",
   "metadata": {
    "deletable": true,
    "editable": true
   },
   "source": [
    "### (3 of 8) Encoding (ctd)\n",
    "\n",
    "We use a small example to illustrate the workings of the\n",
    "Huffman encoding algorithm.  The letters are a b c d e f\n",
    "and the corresponding frequencies are 3 1 4 1 5 9.\n",
    "\n",
    "hc constructs the minimum weighted binary tree t with\n",
    "the words at the leaves.\n",
    "\n",
    "< S: 0 t gives the words in left first traversal.\n",
    "\n",
    "{:: t gives the paths to the words.\n",
    "\n",
    "<@(1&=)@; S: 1 {:: t makes a list of the paths in left\n",
    "first order. (The 1&= makes the numbers boolean.)\n",
    "\n",
    "A final index gives the Huffman codes."
   ]
  },
  {
   "cell_type": "code",
   "execution_count": null,
   "metadata": {
    "collapsed": false,
    "deletable": true,
    "editable": true
   },
   "outputs": [],
   "source": [
    "A=: 'abcdef'                 NB. letters"
   ]
  },
  {
   "cell_type": "code",
   "execution_count": null,
   "metadata": {
    "collapsed": false,
    "deletable": true,
    "editable": true
   },
   "outputs": [],
   "source": [
    "F=: 3 1 4 1 5 9              NB. corresponding frequencies"
   ]
  },
  {
   "cell_type": "code",
   "execution_count": null,
   "metadata": {
    "collapsed": false,
    "deletable": true,
    "editable": true
   },
   "outputs": [],
   "source": [
    "] t=: 0 {:: F hc ,&.>A       NB. minimum weighted binary tree"
   ]
  },
  {
   "cell_type": "code",
   "execution_count": null,
   "metadata": {
    "collapsed": false,
    "deletable": true,
    "editable": true
   },
   "outputs": [],
   "source": [
    "] a=: < S: 0 t               NB. the words in left first traversal"
   ]
  },
  {
   "cell_type": "code",
   "execution_count": null,
   "metadata": {
    "collapsed": false,
    "deletable": true,
    "editable": true
   },
   "outputs": [],
   "source": [
    "{:: t                        NB. paths to the words"
   ]
  },
  {
   "cell_type": "code",
   "execution_count": null,
   "metadata": {
    "collapsed": false,
    "deletable": true,
    "editable": true
   },
   "outputs": [],
   "source": [
    "] p=: <@(1&=)@; S: 1 {:: t   NB. paths in standard form"
   ]
  },
  {
   "cell_type": "code",
   "execution_count": null,
   "metadata": {
    "collapsed": false,
    "deletable": true,
    "editable": true
   },
   "outputs": [],
   "source": [
    "((;a) i. A) { p              NB. Huffman codes for a b c d e f"
   ]
  },
  {
   "cell_type": "code",
   "execution_count": null,
   "metadata": {
    "collapsed": false,
    "deletable": true,
    "editable": true
   },
   "outputs": [],
   "source": [
    "] H=: F hcodes A             NB. Huffman codes for a b c d e f"
   ]
  },
  {
   "cell_type": "markdown",
   "metadata": {
    "deletable": true,
    "editable": true
   },
   "source": [
    "### (4 of 8) Encoding (ctd)\n",
    "\n",
    "To encode a given text, find the location of each letter in\n",
    "the alphabet A and then index into the list of Huffman\n",
    "codes H.  The raze of these codes is the Huffman encoding."
   ]
  },
  {
   "cell_type": "code",
   "execution_count": null,
   "metadata": {
    "collapsed": false,
    "deletable": true,
    "editable": true
   },
   "outputs": [],
   "source": [
    "hencode=: 4 : '(>{.x) ;@:{~ (>{:x) i. y'"
   ]
  },
  {
   "cell_type": "code",
   "execution_count": null,
   "metadata": {
    "collapsed": false,
    "deletable": true,
    "editable": true
   },
   "outputs": [],
   "source": [
    "(A i. 'cab') { H"
   ]
  },
  {
   "cell_type": "code",
   "execution_count": null,
   "metadata": {
    "collapsed": false,
    "deletable": true,
    "editable": true
   },
   "outputs": [],
   "source": [
    "; (A i. 'cab') { H"
   ]
  },
  {
   "cell_type": "code",
   "execution_count": null,
   "metadata": {
    "collapsed": false,
    "deletable": true,
    "editable": true
   },
   "outputs": [],
   "source": [
    "HA=: H;A"
   ]
  },
  {
   "cell_type": "code",
   "execution_count": null,
   "metadata": {
    "collapsed": false,
    "deletable": true,
    "editable": true
   },
   "outputs": [],
   "source": [
    "HA hencode 'cab'"
   ]
  },
  {
   "cell_type": "markdown",
   "metadata": {
    "deletable": true,
    "editable": true
   },
   "source": [
    "### (5 of 8) Decoding\n",
    "\n",
    "The dyad ;: (sequential machine) facilitates conversion from\n",
    "Huffman codes back into the original text.  The verb hst\n",
    "computes S and B required to effect the decoding.\n",
    "\n",
    "S is the state transition and output table (\"state table\"\n",
    "for short), a key item in the left argument for ;: .\n",
    "\n",
    "B is the list such that ```_```2]\\B are the letters that correspond\n",
    "to the entries in S.  B has '```_```' for entries in S that do not\n",
    "correspond to any letter."
   ]
  },
  {
   "cell_type": "markdown",
   "metadata": {
    "deletable": true,
    "editable": true
   },
   "source": [
    "### (6 of 8) Decoding (ctd)\n",
    "\n",
    "Each entry of the state table S is a pair of numbers of the\n",
    "new state and output code.  The table has outer shape s,2,\n",
    "where s is the number of possible states and 2 is the number\n",
    "of possible values in Huffman codes (0 and 1).\n",
    "\n",
    "The table is constructed by considering all possible prefixes\n",
    "of the Huffman codes, sorted by length and value.  This is\n",
    "the quantity p in the verb hst.  (The sorting is for esthetic\n",
    "purposes and is not required for the correct functioning of\n",
    "the decoding.)  0 and 1 are then separately appended to each\n",
    "prefix, q in the verb hst.  These correspond to the entries\n",
    "in S.\n",
    "\n",
    "If an entry of q is an actual Huffman code, the output code\n",
    "is 3 (terminate the current code word) and the new state is 0\n",
    "(scan for a new code word); if it does not, then the output\n",
    "code is 0 (continue building the current code word) and the\n",
    "new state is the row in q that corresponds to the abuilding\n",
    "code word.\n",
    "\n",
    "The last phrase below shows the correspondence between q S B;\n",
    "respectively, the code words, the state table (with the new\n",
    "state and output codes), and the original letters."
   ]
  },
  {
   "cell_type": "code",
   "execution_count": null,
   "metadata": {
    "collapsed": false,
    "deletable": true,
    "editable": true
   },
   "outputs": [],
   "source": [
    "type =: 3!:0"
   ]
  },
  {
   "cell_type": "code",
   "execution_count": null,
   "metadata": {
    "collapsed": false,
    "deletable": true,
    "editable": true
   },
   "outputs": [],
   "source": [
    "nullc=: '_'  NB. illegal character (use  {:a. in practice)"
   ]
  },
  {
   "cell_type": "code",
   "execution_count": null,
   "metadata": {
    "collapsed": false,
    "deletable": true,
    "editable": true
   },
   "outputs": [],
   "source": [
    "hst=: 3 : 0  NB. Huffman decode state transition table\n",
    " 'H A'=. y\n",
    " assert. H-:&#A\n",
    " assert. (1=#$A)*. 2=type A     NB. letters\n",
    " assert. (1=#$H)*.32=type H     NB. corresponding Huffman codes\n",
    " assert. (1=#@$&>H)*.1=type&>H  NB. H-codes are boolean lists\n",
    " assert. H -: ~.H               NB. H-codes must be unique\n",
    " assert. -. a: e. H             NB. H-codes must be non-empty\n",
    " p=. ~. a: , ; <\\@}:&.>H        NB. all possible prefixes\n",
    " p=. p /: (#&.>p),.p            NB. sorted by length and value\n",
    " q=. p ,&.>/ 0;1                NB. code words corresponding to S\n",
    " assert. H e. ,q                NB. should contain all the H-codes\n",
    " B=. (H i.,q){A,nullc           NB. plain letter for each state\n",
    " b=. q e. H                     NB. 1 iff an actual Huffman code\n",
    " e=. 1, }. 3 * b                NB. output codes\n",
    " s=. (-.b) * p i. q             NB. state transitions\n",
    " assert. -. (,&.>0 1) e. H      NB. nonce error if (,0) or (,1) are H-codes\n",
    " S=. s,\"0 e\n",
    " S;B\n",
    ")"
   ]
  },
  {
   "cell_type": "code",
   "execution_count": null,
   "metadata": {
    "collapsed": false,
    "deletable": true,
    "editable": true
   },
   "outputs": [],
   "source": [
    "'S B'=: SB=: hst HA"
   ]
  },
  {
   "cell_type": "code",
   "execution_count": null,
   "metadata": {
    "collapsed": false,
    "deletable": true,
    "editable": true
   },
   "outputs": [],
   "source": [
    "$S"
   ]
  },
  {
   "cell_type": "code",
   "execution_count": null,
   "metadata": {
    "collapsed": false,
    "deletable": true,
    "editable": true
   },
   "outputs": [],
   "source": [
    "#B"
   ]
  },
  {
   "cell_type": "code",
   "execution_count": null,
   "metadata": {
    "collapsed": false,
    "deletable": true,
    "editable": true
   },
   "outputs": [],
   "source": [
    "(#B) = */ 2{.$S"
   ]
  },
  {
   "cell_type": "code",
   "execution_count": null,
   "metadata": {
    "collapsed": false,
    "deletable": true,
    "editable": true
   },
   "outputs": [],
   "source": [
    "p=: ~. a: , ; <\\@}:&.>H   NB. all possible prefixes"
   ]
  },
  {
   "cell_type": "code",
   "execution_count": null,
   "metadata": {
    "collapsed": false,
    "deletable": true,
    "editable": true
   },
   "outputs": [],
   "source": [
    "p=: p /: (#&.>p),.p       NB. sorted by length and value"
   ]
  },
  {
   "cell_type": "code",
   "execution_count": null,
   "metadata": {
    "collapsed": false,
    "deletable": true,
    "editable": true
   },
   "outputs": [],
   "source": [
    "q=: p ,&.>/ 0;1           NB. code words corresponding to S"
   ]
  },
  {
   "cell_type": "markdown",
   "metadata": {
    "deletable": true,
    "editable": true
   },
   "source": [
    "code words, new state and output codes, original letters"
   ]
  },
  {
   "cell_type": "code",
   "execution_count": null,
   "metadata": {
    "collapsed": false,
    "deletable": true,
    "editable": true
   },
   "outputs": [],
   "source": [
    "(\":q),.' ',.(\":<\"1 S),.' ',.\": <\"0 ] _2 ]\\B"
   ]
  },
  {
   "cell_type": "markdown",
   "metadata": {
    "deletable": true,
    "editable": true
   },
   "source": [
    "### (7 of 8) Decoding (ctd)\n",
    "\n",
    "Having the state table and corresponding letters in hand,\n",
    "it is a simple matter to recover the original text:  run the\n",
    "sequential machine using function code 3 -- return as result\n",
    "the state table indices at the time of output -- and use\n",
    "the indices to index into B."
   ]
  },
  {
   "cell_type": "code",
   "execution_count": null,
   "metadata": {
    "collapsed": false,
    "deletable": true,
    "editable": true
   },
   "outputs": [],
   "source": [
    "hdecode=: 4 : '(>{:x) {~ (3;{.x);:y'"
   ]
  },
  {
   "cell_type": "code",
   "execution_count": null,
   "metadata": {
    "collapsed": false,
    "deletable": true,
    "editable": true
   },
   "outputs": [],
   "source": [
    "SB hdecode HA hencode 'cabbed'"
   ]
  },
  {
   "cell_type": "markdown",
   "metadata": {
    "deletable": true,
    "editable": true
   },
   "source": [
    "### (8 of 8) Example\n",
    "\n",
    "Here we use a more extended example.  A is a list of the\n",
    "space and the letters of the alphabet.  F is a list of the\n",
    "corresponding frequencies based on the book of Isaiah in\n",
    "the NIV bible.\n",
    "\n",
    "For example, the space occurs 34511 times, the letter a\n",
    "occurs 10413 times, b 2041 times, etc.  The letter z\n",
    "occurs 161 times, much less frequently than the letter a.\n",
    "\n",
    "H is a list of the Huffman codes for the letters A whose\n",
    "frequencies are F.  Thus:\n",
    "\n",
    "<code>   ```letter   freq    hcode```</code><br>\n",
    "\n",
    "<code>   ```space   34511    0 0```</code><br>\n",
    "<code>   ```a       10413    1 0 0 1```</code><br>\n",
    "<code>   ```b        2041    0 1 1 0 0 0```</code><br>\n",
    "<code>   ```z         161    1 1 0 0 1 0 1 0 0 1```</code><br>\n",
    "\n",
    "The benchmarks show that hencode and hdecode are quite\n",
    "efficient."
   ]
  },
  {
   "cell_type": "code",
   "execution_count": null,
   "metadata": {
    "collapsed": false,
    "deletable": true,
    "editable": true
   },
   "outputs": [],
   "source": [
    "A=: ' ',(97+i.26){a."
   ]
  },
  {
   "cell_type": "code",
   "execution_count": null,
   "metadata": {
    "collapsed": false,
    "deletable": true,
    "editable": true
   },
   "outputs": [],
   "source": [
    "F=: 34511 10413 2041 2339 6059 17277 3241 2668 9437 9454 292 1199 7690 3306 8723 11885 2110 39 8739 8780 11621 3883 1351 3953 53 3564 161"
   ]
  },
  {
   "cell_type": "code",
   "execution_count": null,
   "metadata": {
    "collapsed": false,
    "deletable": true,
    "editable": true
   },
   "outputs": [],
   "source": [
    "(#A) = #F"
   ]
  },
  {
   "cell_type": "code",
   "execution_count": null,
   "metadata": {
    "collapsed": false,
    "deletable": true,
    "editable": true
   },
   "outputs": [],
   "source": [
    "H=: F hcodes A"
   ]
  },
  {
   "cell_type": "code",
   "execution_count": null,
   "metadata": {
    "collapsed": false,
    "deletable": true,
    "editable": true
   },
   "outputs": [],
   "source": [
    "H {~ A i. ' abz'"
   ]
  },
  {
   "cell_type": "code",
   "execution_count": null,
   "metadata": {
    "collapsed": false,
    "deletable": true,
    "editable": true
   },
   "outputs": [],
   "source": [
    "HA=: H;A"
   ]
  },
  {
   "cell_type": "code",
   "execution_count": null,
   "metadata": {
    "collapsed": false,
    "deletable": true,
    "editable": true
   },
   "outputs": [],
   "source": [
    "t=: 'the quick brown fox jumps over the lazy dog '"
   ]
  },
  {
   "cell_type": "code",
   "execution_count": null,
   "metadata": {
    "collapsed": false,
    "deletable": true,
    "editable": true
   },
   "outputs": [],
   "source": [
    "HA hencode t"
   ]
  },
  {
   "cell_type": "code",
   "execution_count": null,
   "metadata": {
    "collapsed": false,
    "deletable": true,
    "editable": true
   },
   "outputs": [],
   "source": [
    "SB=: hst HA"
   ]
  },
  {
   "cell_type": "code",
   "execution_count": null,
   "metadata": {
    "collapsed": false,
    "deletable": true,
    "editable": true
   },
   "outputs": [],
   "source": [
    "SB hdecode HA hencode t"
   ]
  },
  {
   "cell_type": "code",
   "execution_count": null,
   "metadata": {
    "collapsed": false,
    "deletable": true,
    "editable": true
   },
   "outputs": [],
   "source": [
    "x=: 1e6 $ t"
   ]
  },
  {
   "cell_type": "code",
   "execution_count": null,
   "metadata": {
    "collapsed": false,
    "deletable": true,
    "editable": true
   },
   "outputs": [],
   "source": [
    "# y=: HA hencode x"
   ]
  },
  {
   "cell_type": "code",
   "execution_count": null,
   "metadata": {
    "collapsed": false,
    "deletable": true,
    "editable": true
   },
   "outputs": [],
   "source": [
    "x -: SB hdecode y"
   ]
  },
  {
   "cell_type": "code",
   "execution_count": null,
   "metadata": {
    "collapsed": false,
    "deletable": true,
    "editable": true
   },
   "outputs": [],
   "source": [
    "ts=: 6!:2 , 7!:2@]"
   ]
  },
  {
   "cell_type": "code",
   "execution_count": null,
   "metadata": {
    "collapsed": false,
    "deletable": true,
    "editable": true
   },
   "outputs": [],
   "source": [
    "ts 'HA hencode x'"
   ]
  },
  {
   "cell_type": "code",
   "execution_count": null,
   "metadata": {
    "collapsed": false,
    "deletable": true,
    "editable": true
   },
   "outputs": [],
   "source": [
    "ts 'SB hdecode y'"
   ]
  },
  {
   "cell_type": "markdown",
   "metadata": {
    "deletable": true,
    "editable": true
   },
   "source": [
    "### End of Lab"
   ]
  },
  {
   "cell_type": "code",
   "execution_count": null,
   "metadata": {
    "collapsed": false,
    "deletable": true,
    "editable": true
   },
   "outputs": [],
   "source": []
  }
 ],
 "metadata": {
  "kernelspec": {
   "display_name": "J",
   "language": "J",
   "name": "jkernel"
  },
  "language_info": {
   "file_extension": "ijs",
   "mimetype": "text/x-J",
   "name": "J"
  }
 },
 "nbformat": 4,
 "nbformat_minor": 2
}
