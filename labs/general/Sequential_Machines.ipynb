{
 "cells": [
  {
   "cell_type": "markdown",
   "metadata": {
    "deletable": true,
    "editable": true
   },
   "source": [
    "# J Labs\n",
    "\n",
    "### Sequential Machines"
   ]
  },
  {
   "cell_type": "markdown",
   "metadata": {
    "deletable": true,
    "editable": true
   },
   "source": [
    "### (1 of 17) Introduction\n",
    "\n",
    "```x;:y``` implements a sequential machine (finite state machine,\n",
    "finite state automaton).   x is the specification of a\n",
    "machine, including the state transition table, and y is the\n",
    "input.  A sequential machine solves the problem of\n",
    "recognizing the \"words\" in the input.  The machine starts in\n",
    "some initial state and processes the input one item at a time.\n",
    "Given the current state and input item, the new state and\n",
    "output are determined by the state transition table.  The\n",
    "machine then proceeds to the next input item."
   ]
  },
  {
   "cell_type": "markdown",
   "metadata": {
    "deletable": true,
    "editable": true
   },
   "source": [
    "### (2 of 17) Introduction (ctd)\n",
    "\n",
    "```x=.f;s;m;ijr```  is a boxed list of the specifications for a\n",
    "machine.\n",
    "\n",
    "f is a function code.  m is an input mapping.  ijr are the\n",
    "initial settings.  ijr or both m and ijr may be elided.\n",
    "\n",
    "s is a state transition and output table (\"state table\" for\n",
    "short).  s is actually a 3-dimensional array with shape\n",
    "(p,q,2) where p is the number of states and q is the number\n",
    "possible mapped inputs.  However, it is convenient to speak\n",
    "of s as a p by q table of pairs.  The pairs are 2 integers\n",
    "denoting the new state and the output code.\n",
    "\n",
    "The arguments are described in greater detail in later\n",
    "sections of this lab."
   ]
  },
  {
   "cell_type": "markdown",
   "metadata": {
    "deletable": true,
    "editable": true
   },
   "source": [
    "### (3 of 17) Example: Cut\n",
    "\n",
    "The following example mimics the functionality of the monad\n",
    "<;.1 (cut).  The space specifies a cut point, and each cut\n",
    "(word) is boxed.\n",
    "\n",
    "The input mapping is `' '=a.`, i.e. the space character is mapped\n",
    "to 1 and other characters are mapped to 0.\n",
    "\n",
    "The state table has 2-columns (2 possible mapped inputs) and\n",
    "2 rows.\n",
    "\n",
    "Column 0 is for \"other\" (non-space) and column 1 is space.\n",
    "\n",
    "Row 0 is the initial state.  The sequential machine persists\n",
    "in this state until a space is scanned.  When that happens,\n",
    "a new word is started and then it goes into and remains in\n",
    "state 1.  In state 1, if a non-space is scanned, there is no\n",
    "output; if a space is scanned, the current word is output\n",
    "and a new word begins.  At the end, the then current word is\n",
    "output.\n",
    "\n",
    "Can you define a sequential machine such that the space is\n",
    "excluded from the word?"
   ]
  },
  {
   "cell_type": "code",
   "execution_count": null,
   "metadata": {
    "collapsed": false,
    "deletable": true,
    "editable": true
   },
   "outputs": [],
   "source": [
    "sc=: 2 2 2$ 0 0  1 1  1 0  1 2  NB. state table"
   ]
  },
  {
   "cell_type": "code",
   "execution_count": null,
   "metadata": {
    "collapsed": false,
    "deletable": true,
    "editable": true
   },
   "outputs": [],
   "source": [
    "<\"1 sc"
   ]
  },
  {
   "cell_type": "code",
   "execution_count": null,
   "metadata": {
    "collapsed": false,
    "deletable": true,
    "editable": true
   },
   "outputs": [],
   "source": [
    "y=: ' fourscore and seven years ago, our fathers'"
   ]
  },
  {
   "cell_type": "code",
   "execution_count": null,
   "metadata": {
    "collapsed": false,
    "deletable": true,
    "editable": true
   },
   "outputs": [],
   "source": [
    "(0;sc;' '=a.) ;: y"
   ]
  },
  {
   "cell_type": "code",
   "execution_count": null,
   "metadata": {
    "collapsed": false,
    "deletable": true,
    "editable": true
   },
   "outputs": [],
   "source": [
    "(0;sc;' '=a.) ;: 'junk@front zero  two'"
   ]
  },
  {
   "cell_type": "markdown",
   "metadata": {
    "deletable": true,
    "editable": true
   },
   "source": [
    "### (4 of 17) Example: Cut (ctd)\n",
    "\n",
    "A benchmark comparing the sequential machine and the cut\n",
    "primitive demonstrates the efficiency of the sequential\n",
    "machine approach."
   ]
  },
  {
   "cell_type": "code",
   "execution_count": null,
   "metadata": {
    "collapsed": false,
    "deletable": true,
    "editable": true
   },
   "outputs": [],
   "source": [
    "f=: (0;sc;' '=a.)&;:  NB. sequential machine method"
   ]
  },
  {
   "cell_type": "code",
   "execution_count": null,
   "metadata": {
    "collapsed": false,
    "deletable": true,
    "editable": true
   },
   "outputs": [],
   "source": [
    "g=: <;.1              NB. cut primitive"
   ]
  },
  {
   "cell_type": "code",
   "execution_count": null,
   "metadata": {
    "collapsed": false,
    "deletable": true,
    "editable": true
   },
   "outputs": [],
   "source": [
    "y=: 1e6$' fourscore and seven years ago, our fathers'"
   ]
  },
  {
   "cell_type": "code",
   "execution_count": null,
   "metadata": {
    "collapsed": false,
    "deletable": true,
    "editable": true
   },
   "outputs": [],
   "source": [
    "(f -: g) y"
   ]
  },
  {
   "cell_type": "code",
   "execution_count": null,
   "metadata": {
    "collapsed": false,
    "deletable": true,
    "editable": true
   },
   "outputs": [],
   "source": [
    "ts=: 6!:2 , 7!:2@]    NB. time and space"
   ]
  },
  {
   "cell_type": "code",
   "execution_count": null,
   "metadata": {
    "collapsed": false,
    "deletable": true,
    "editable": true
   },
   "outputs": [],
   "source": [
    "ts 'f y'"
   ]
  },
  {
   "cell_type": "code",
   "execution_count": null,
   "metadata": {
    "collapsed": false,
    "deletable": true,
    "editable": true
   },
   "outputs": [],
   "source": [
    "ts 'g y'"
   ]
  },
  {
   "cell_type": "markdown",
   "metadata": {
    "deletable": true,
    "editable": true
   },
   "source": [
    "### (5 of 17) The Sequential Machine Computation\n",
    "\n",
    "Certain quantities are helpful in understanding the\n",
    "sequential machine computation.  These are:\n",
    "\n",
    "<code> ```i          iteration index (also input index)```</code><br>\n",
    "<code> ```j          beginning index of the current word```</code><br>\n",
    "<code> ```r          current state```</code><br>\n",
    "<code> ```c          current mapped input```</code><br>\n",
    "<code> ```0{s{~<r,c  new state```</code><br>\n",
    "<code> ```1{s{~<r,c  output code```</code><br>\n",
    "\n",
    "By default:  i runs from 0 to (#y)-1.  The word index j is\n",
    "initialized to ```_```1 and is set as specified by output codes in\n",
    "the state table, according to the current state r and the\n",
    "current mapped input c.  Likewise, the current state r is\n",
    "initialized to 0 and is set as specified by the state table,\n",
    "according to the current state and the current mapped input\n",
    "c.\n",
    "\n",
    "Non-default values for i, j, and r can be specified in last\n",
    "item of the left argument.  (See a later section of this\n",
    "lab.)"
   ]
  },
  {
   "cell_type": "markdown",
   "metadata": {
    "deletable": true,
    "editable": true
   },
   "source": [
    "### (6 of 17) Arguments\n",
    "\n",
    "As outlined briefly, the left argument x is  ```f;s;m;ijr```  and\n",
    "the right argument ```y``` is the input.  These are described in\n",
    "detail in the following sections."
   ]
  },
  {
   "cell_type": "markdown",
   "metadata": {
    "deletable": true,
    "editable": true
   },
   "source": [
    "### (7 of 17) Input and Mapped Input\n",
    "\n",
    "The right argument y is the input.  y is usually a string but\n",
    "can be any array.\n",
    "\n",
    "Item 2 of the left argument x (m=.>2{x) is a mapping on the\n",
    "input.  For example, in the \"cut\" example in a previous\n",
    "section, the input is a string and the mapping is ' '=a. --\n",
    "i.e. the space character is mapped to 1 and all other\n",
    "characters are mapped to 0.  Typically, in working with\n",
    "sequential machines, the first items to be decided are the\n",
    "input and the input mapping.\n",
    "\n",
    "If y is a string, then m is usually a 256-element integer\n",
    "list, where each element specifies an integer value for\n",
    "the corresponding character.  (e.g. ' '=a.)\n",
    "\n",
    "In general, m is a boxed list, where >i{m contains the items\n",
    "that should be mapped to the integer i .  For example,\n",
    "m=.'aeiouy';'bcdfghjklmnpqrstvwxz'  specifies that the\n",
    "letters a e i o u y are mapped to 0, other lower case letters\n",
    "are mapped to 1, and all other characters are mapped to 2.\n",
    "The mappings  ' '=a.  and  <a.-.' '  are equivalent.\n",
    "\n",
    "If m is elided or is the empty vector, then the input y is\n",
    "used as is.  In that case y must be an integer list.\n",
    "\n",
    "The state transitions and output are determined by the\n",
    "mapped input, but the output words are formed from the\n",
    "original input."
   ]
  },
  {
   "cell_type": "markdown",
   "metadata": {
    "deletable": true,
    "editable": true
   },
   "source": [
    "### (8 of 17) State Transition and Output Table\n",
    "\n",
    "Item 1 of the left argument x (s=.>1{x) is a state transition\n",
    "and output table (\"state table\" for short).  s is actually a\n",
    "3-dimensional array with shape (p,q,2) where p is the number\n",
    "of states and q is the number possible inputs.  However, it\n",
    "is convenient to speak of s as a p by q table of pairs.\n",
    "The pairs are 2 integers denoting the new state and the\n",
    "output code.\n",
    "\n",
    "q, the number of columns in the state table, must bound the\n",
    "input mapping values.\n",
    "\n",
    "Typically, in working with sequential machines, the state\n",
    "table is the next to be devised after the input mapping.\n",
    "Start with a table of with q columns and as many rows\n",
    "(states) as one can think of.  The new state and output need\n",
    "to be decided for each state and mapped input combination.\n",
    "In the process, quite often additional states are added.\n",
    "\n",
    "Sometimes the state table is sufficiently complicated that\n",
    "it is computed by a program from other information.  The\n",
    "Huffman coding lab has an example of this."
   ]
  },
  {
   "cell_type": "markdown",
   "metadata": {
    "deletable": true,
    "editable": true
   },
   "source": [
    "### (9 of 17) Output Codes\n",
    "\n",
    "The second element of the pairs in a state table is an output\n",
    "codes, one of the integers from 0 to 6.\n",
    "\n",
    "<code> ```0    no output```</code><br>\n",
    "<code> ```1    j=.i```</code><br>\n",
    "<code> ```2    j=.i  [ ew(i,j,r,c)```</code><br>\n",
    "<code> ```3    j=._1 [ ew(i,j,r,c)```</code><br>\n",
    "<code> ```4    j=.i  [ ev(i,j,r,c)```</code><br>\n",
    "<code> ```5    j=._1 [ ev(i,j,r,c)```</code><br>\n",
    "<code> ```6    stop```</code><br>\n",
    "\n",
    "j is the beginning index of a word and is initialized to ```_```1\n",
    "(or 1{ijr if ijr is supplied).\n",
    "\n",
    "ew(i,j,r,c) (\"emit word\") checks that j is not ```_```1 and emits\n",
    "information on a word according to the function code f .\n",
    "\n",
    "ev(i,j,r,c) (\"emit vector\") is similiar, but the current word\n",
    "is catenated to the previous word if the previous emit was ev\n",
    "and the state at that time was r .  ev is used to form\n",
    "\"vector constants\" and is not used in most applications."
   ]
  },
  {
   "cell_type": "markdown",
   "metadata": {
    "deletable": true,
    "editable": true
   },
   "source": [
    "### (10 of 17) Function Codes\n",
    "\n",
    "The function code f (the first item in the left argument) is\n",
    "one of the integers from 0 to 5.  0 to 4 specify the\n",
    "treatment of a word at the time of output.  5 specifies\n",
    "trace.\n",
    "\n",
    "<code> ```0  <y{~j+i.i-j      the word boxed```</code><br>\n",
    "<code> ```1  y{~j+i.i-j       the word```</code><br>\n",
    "<code> ```2  j,i-j            word index and length```</code><br>\n",
    "<code> ```3  c+q*r            state table index```</code><br>\n",
    "<code> ```4  j,(i-j),c+q*r    both 2 and 3 above```</code><br>\n",
    "<code> ```5  i,j,r,c,s{~<r,c  trace```</code><br>\n",
    "\n",
    "Typically, function code 0 would be used if the words\n",
    "themselves are of interest.\n",
    "\n",
    "Function code 1 would be used if some words are retained\n",
    "while others are discarded (as in the quote/non-quote\n",
    "example in a later section of this lab).\n",
    "\n",
    "Function codes 2, 3, or 4 are used if the result of x;:y\n",
    "is used for further computation.  For example, in Huffman\n",
    "decoding it is convenient to use function code 3 (see the\n",
    "Huffman Coding lab).\n",
    "\n",
    "Function code 5 can be useful for debugging.  It provides\n",
    "a trace of the sequential machine computation.  The result\n",
    "is a 6-column table of quantities that completely describe\n",
    "the sequential machine computation.\n",
    "\n",
    "The examples below use the state table sc (cut on space)\n",
    "from a previous section."
   ]
  },
  {
   "cell_type": "code",
   "execution_count": null,
   "metadata": {
    "collapsed": false,
    "deletable": true,
    "editable": true
   },
   "outputs": [],
   "source": [
    "(0;sc;' '=a.) ;: y=: ' tonic chthonic'"
   ]
  },
  {
   "cell_type": "code",
   "execution_count": null,
   "metadata": {
    "collapsed": false,
    "deletable": true,
    "editable": true
   },
   "outputs": [],
   "source": [
    "(1;sc;' '=a.) ;: y"
   ]
  },
  {
   "cell_type": "code",
   "execution_count": null,
   "metadata": {
    "collapsed": false,
    "deletable": true,
    "editable": true
   },
   "outputs": [],
   "source": [
    "(2;sc;' '=a.) ;: y"
   ]
  },
  {
   "cell_type": "code",
   "execution_count": null,
   "metadata": {
    "collapsed": false,
    "deletable": true,
    "editable": true
   },
   "outputs": [],
   "source": [
    "(3;sc;' '=a.) ;: y"
   ]
  },
  {
   "cell_type": "code",
   "execution_count": null,
   "metadata": {
    "collapsed": false,
    "deletable": true,
    "editable": true
   },
   "outputs": [],
   "source": [
    "(4;sc;' '=a.) ;: y"
   ]
  },
  {
   "cell_type": "code",
   "execution_count": null,
   "metadata": {
    "collapsed": false,
    "deletable": true,
    "editable": true
   },
   "outputs": [],
   "source": [
    "(5;sc;' '=a.) ;: y"
   ]
  },
  {
   "cell_type": "markdown",
   "metadata": {
    "deletable": true,
    "editable": true
   },
   "source": [
    "### (11 of 17) Initial Settings\n",
    "\n",
    "The initial settings ijr (>3{x) are 3 integers:\n",
    "\n",
    "<code> ```i  iteration index (also input index)```</code><br>\n",
    "<code> ```j  beginning index of a word```</code><br>\n",
    "<code> ```r  initial state```</code><br>\n",
    "\n",
    "If ijr is elided, then the defaults are 0 ```_```1 0 ."
   ]
  },
  {
   "cell_type": "markdown",
   "metadata": {
    "deletable": true,
    "editable": true
   },
   "source": [
    "### (12 of 17) Argument Checking\n",
    "\n",
    "The verb smcheck below may be helpful in checking the\n",
    "arguments x and y in x;:y for errors.\n",
    "\n",
    "If x smcheck y does not signal error, then the only logic\n",
    "error that can occur in x;:y is \"index error\" -- the word\n",
    "index j is ```_```1 when outputting a word.  (\"out of memory\",\n",
    "\"break\", and \"attention interrupt\" can also be signalled.)"
   ]
  },
  {
   "cell_type": "code",
   "execution_count": null,
   "metadata": {
    "collapsed": false,
    "deletable": true,
    "editable": true
   },
   "outputs": [],
   "source": [
    "type=: 3!:0  NB. internal type"
   ]
  },
  {
   "cell_type": "code",
   "execution_count": null,
   "metadata": {
    "collapsed": false,
    "deletable": true,
    "editable": true
   },
   "outputs": [],
   "source": [
    "smcheck=: 4 : 0     NB. check arguments of sequential machine\n",
    " assert. 32=type x\n",
    " assert. (<$x) e. ,&.>2 3 4    NB. 2- or 3- or 4-element list\n",
    " 'f s m ijr'=. 4{.x            NB. function code; state ; mapping; initial state\n",
    " assert. (0=#$f) *. f e. i.6    NB. function code is from 0 to 5\n",
    " assert. (3=#$s) *. 2={:$s      NB. state is a 3-d, 2-column array\n",
    " assert. (0<:s) *. s-:<.s       NB. positive integers\n",
    " assert. (#s) > >./,0{\"1 s      NB. new states\n",
    " assert. (1{\"1 s) e. i.7        NB. output codes\n",
    " assert. 1=#$m                  NB. mapping is a vector\n",
    " q=. 1{$s\n",
    " if. ''-:m do.                  NB. if m is empty\n",
    "  assert. (1=#$y) *. y-:<.y  NB. y is used as is\n",
    "  assert. q > y\n",
    " elseif. (1:@:+: :: 0:) m do.   NB. if m is numeric\n",
    "  assert. q > m\n",
    "  assert. m -:&$ a.             NB. m specifies mapping on alphabet\n",
    "  assert. m e. i.#a.            NB. mappings are non-negative integers\n",
    "  assert. (1=#$y) *. 2=3!:0 y NB. y must be a string\n",
    " elseif. 1 do.\n",
    "  assert. 32=type m             NB. else m must be boxed\n",
    "  assert. q > #m\n",
    "  assert. (#$;m) e. 0 1+#$y\n",
    " end.\n",
    " if. -. ''-:ijr do.             NB. ijr may be elided or empty\n",
    "  assert. (,3)-:$ijr            NB. 3-element vector\n",
    "  assert. ijr-:<.ijr            NB. integers\n",
    "  'i j r'=. ijr\n",
    "  assert. (0<:i)*.i<i.#y       NB. iteration index (also index into input)\n",
    "  assert. (_1=j)+.(0<:j)*.j<i   NB. beginning index of a word\n",
    "  assert. (0<:r)*.r<p           NB. initial state\n",
    " end.\n",
    " 1\n",
    ")"
   ]
  },
  {
   "cell_type": "code",
   "execution_count": null,
   "metadata": {
    "collapsed": false,
    "deletable": true,
    "editable": true
   },
   "outputs": [],
   "source": [
    "(1;sc;''''=a.) smcheck 'abc'"
   ]
  },
  {
   "cell_type": "code",
   "execution_count": null,
   "metadata": {
    "collapsed": false,
    "deletable": true,
    "editable": true
   },
   "outputs": [],
   "source": [
    "(9;sc;''''=a.) smcheck 'abc'  NB. deliberate error"
   ]
  },
  {
   "cell_type": "markdown",
   "metadata": {
    "deletable": true,
    "editable": true
   },
   "source": [
    "### (13 of 17) Example: English Words\n",
    "\n",
    "A sequential machine that selects the words in ordinary\n",
    "English text is similar to the machine in a previous section\n",
    "that cuts on words separated by spaces.\n",
    "\n",
    "The mapping is 1 for letters of the alphabet (majuscules and\n",
    "minuscules) and 0 for everything else."
   ]
  },
  {
   "cell_type": "code",
   "execution_count": null,
   "metadata": {
    "collapsed": false,
    "deletable": true,
    "editable": true
   },
   "outputs": [],
   "source": [
    "se=: 2 2 2 $ 0 0  1 1  0 3  1 0"
   ]
  },
  {
   "cell_type": "code",
   "execution_count": null,
   "metadata": {
    "collapsed": false,
    "deletable": true,
    "editable": true
   },
   "outputs": [],
   "source": [
    "<\"1 se"
   ]
  },
  {
   "cell_type": "code",
   "execution_count": null,
   "metadata": {
    "collapsed": false,
    "deletable": true,
    "editable": true
   },
   "outputs": [],
   "source": [
    "f=: (0;se;(i.#a.) e. ,(a.i.'Aa')+/i.26)&;:"
   ]
  },
  {
   "cell_type": "code",
   "execution_count": null,
   "metadata": {
    "collapsed": false,
    "deletable": true,
    "editable": true
   },
   "outputs": [],
   "source": [
    "f 'In the beginning, E=mc^2'"
   ]
  },
  {
   "cell_type": "markdown",
   "metadata": {
    "deletable": true,
    "editable": true
   },
   "source": [
    "### (14 of 17) Example: Quotes and Non-quotes\n",
    "\n",
    "The following example separates quotes from non-quotes.\n",
    "\n",
    "The input mapping is ```''''=a.``` -- the quote character is\n",
    "mapped to 1 and other characters are mapped to 0.\n",
    "\n",
    "The state table has 2-columns (possible mapped inputs) and 4\n",
    "rows.  Column 0 is for \"other\" (non-quotes) and column 1 is\n",
    "quotes.  The rows (states) are:\n",
    "\n",
    "<code> ```0  initial state```</code><br>\n",
    "<code> ```1  outside of quotes```</code><br>\n",
    "<code> ```2  within a quote```</code><br>\n",
    "<code> ```3  within a quote and a quote is seen```</code><br>\n",
    "\n",
    "For example, suppose the current state is 1 (outside of\n",
    "quotes).  If the current mapped input is 0 (other), then\n",
    "the relevant state table entry is 1 0: the new state is\n",
    "1 and the output code is 0 (no output).  On the other hand,\n",
    "if the current mapped input is 1 (quote), then the relevant\n",
    "state table entry is 2 2: the new state is 2 (within quotes)\n",
    "and the output code is also 2 (emit the current word) and\n",
    "start a new word.\n",
    "\n",
    "State 3 is for handling the convention whereby two quotes\n",
    "within a quote are interpreted as a single quote, and not\n",
    "terminating the quoted string and immediately starting a new\n",
    "quoted string.\n",
    "\n",
    "The function code is 0 -- box the words."
   ]
  },
  {
   "cell_type": "code",
   "execution_count": null,
   "metadata": {
    "collapsed": false,
    "deletable": true,
    "editable": true
   },
   "outputs": [],
   "source": [
    "sq=: 4 2 2$ 1 1 2 1  1 0 2 2  2 0 3 0  1 2 2 0"
   ]
  },
  {
   "cell_type": "code",
   "execution_count": null,
   "metadata": {
    "collapsed": false,
    "deletable": true,
    "editable": true
   },
   "outputs": [],
   "source": [
    "<\"1 sq"
   ]
  },
  {
   "cell_type": "code",
   "execution_count": null,
   "metadata": {
    "collapsed": false,
    "deletable": true,
    "editable": true
   },
   "outputs": [],
   "source": [
    "] y=: '''The Power of the Powerless'' by Havel and ''1984'' by Orwell'"
   ]
  },
  {
   "cell_type": "code",
   "execution_count": null,
   "metadata": {
    "collapsed": false,
    "deletable": true,
    "editable": true
   },
   "outputs": [],
   "source": [
    "(0;sq;''''=a.) ;: y"
   ]
  },
  {
   "cell_type": "code",
   "execution_count": null,
   "metadata": {
    "collapsed": false,
    "deletable": true,
    "editable": true
   },
   "outputs": [],
   "source": [
    "] y=: '''Don''''t tread on me!'' He said.'"
   ]
  },
  {
   "cell_type": "code",
   "execution_count": null,
   "metadata": {
    "collapsed": false,
    "deletable": true,
    "editable": true
   },
   "outputs": [],
   "source": [
    "(0;sq;''''=a.) ;: y"
   ]
  },
  {
   "cell_type": "markdown",
   "metadata": {
    "deletable": true,
    "editable": true
   },
   "source": [
    "### (15 of 17) Example: Quotes and Non-quotes (ctd)\n",
    "\n",
    "If the desired result is the text outside of quotes, then\n",
    "function code 1, the words not boxed, should be used.\n",
    "As well, the output code for quotes is specified in such a\n",
    "way that the quoted words are not output (not catenated).\n",
    "\n",
    "The traditional method for this computation is based on the\n",
    "not-equal scan.  The primitives used in the not-equal scan\n",
    "method are individually highly optimized in the interpreter.\n",
    "\n",
    "A benchmark comparing the two methods demonstrates the\n",
    "efficiency of the sequential machine approach."
   ]
  },
  {
   "cell_type": "code",
   "execution_count": null,
   "metadata": {
    "collapsed": false,
    "deletable": true,
    "editable": true
   },
   "outputs": [],
   "source": [
    "sqx=: 4 2 2 $ 1 1 2 0  1 0 2 3  2 0 3 0  1 1 2 0"
   ]
  },
  {
   "cell_type": "code",
   "execution_count": null,
   "metadata": {
    "collapsed": false,
    "deletable": true,
    "editable": true
   },
   "outputs": [],
   "source": [
    "<\"1 sqx"
   ]
  },
  {
   "cell_type": "code",
   "execution_count": null,
   "metadata": {
    "collapsed": false,
    "deletable": true,
    "editable": true
   },
   "outputs": [],
   "source": [
    "(\":<\"1 sq) ,. ' ' ,. (\": <\"1 sqx)  ,. ' ' ,. \": <\"1 sq=sqx"
   ]
  },
  {
   "cell_type": "code",
   "execution_count": null,
   "metadata": {
    "collapsed": false,
    "deletable": true,
    "editable": true
   },
   "outputs": [],
   "source": [
    "] y=: '''The Power of the Powerless'' by Havel and ''1984'' by Orwell'"
   ]
  },
  {
   "cell_type": "code",
   "execution_count": null,
   "metadata": {
    "collapsed": false,
    "deletable": true,
    "editable": true
   },
   "outputs": [],
   "source": [
    "(1;sqx;''''=a.) ;: y  NB. catenated words "
   ]
  },
  {
   "cell_type": "code",
   "execution_count": null,
   "metadata": {
    "collapsed": false,
    "deletable": true,
    "editable": true
   },
   "outputs": [],
   "source": [
    "f=: (1;sqx;''''=a.)&;:       NB. sequential machine method"
   ]
  },
  {
   "cell_type": "code",
   "execution_count": null,
   "metadata": {
    "collapsed": false,
    "deletable": true,
    "editable": true
   },
   "outputs": [],
   "source": [
    "g=: (+: ~:/\\)@(''''&=) # ]   NB. not-equal scan method"
   ]
  },
  {
   "cell_type": "code",
   "execution_count": null,
   "metadata": {
    "collapsed": false,
    "deletable": true,
    "editable": true
   },
   "outputs": [],
   "source": [
    "y=: 1e6$y"
   ]
  },
  {
   "cell_type": "code",
   "execution_count": null,
   "metadata": {
    "collapsed": false,
    "deletable": true,
    "editable": true
   },
   "outputs": [],
   "source": [
    "(f -: g) y"
   ]
  },
  {
   "cell_type": "code",
   "execution_count": null,
   "metadata": {
    "collapsed": false,
    "deletable": true,
    "editable": true
   },
   "outputs": [],
   "source": [
    "ts 'f y'"
   ]
  },
  {
   "cell_type": "code",
   "execution_count": null,
   "metadata": {
    "collapsed": false,
    "deletable": true,
    "editable": true
   },
   "outputs": [],
   "source": [
    "ts 'g y'"
   ]
  },
  {
   "cell_type": "markdown",
   "metadata": {
    "deletable": true,
    "editable": true
   },
   "source": [
    "### (16 of 17) Example: J sentences\n",
    "\n",
    "The dictionary entry on ;: contains a sequential machine\n",
    "implementation of word formation on J sentences, using a\n",
    "10 by 9 state table.\n",
    "\n",
    "If the rhematic rules are restricted so that NB. has no\n",
    "special significance, then a 6 by 7 state table suffices."
   ]
  },
  {
   "cell_type": "code",
   "execution_count": null,
   "metadata": {
    "collapsed": false,
    "deletable": true,
    "editable": true
   },
   "outputs": [],
   "source": [
    "mjx=: ' ';(a.{~,65 97+/i.26);'0123456789_';'.';':';''''"
   ]
  },
  {
   "cell_type": "code",
   "execution_count": null,
   "metadata": {
    "collapsed": false,
    "deletable": true,
    "editable": true
   },
   "outputs": [],
   "source": [
    "t=. 0 7 2$0"
   ]
  },
  {
   "cell_type": "markdown",
   "metadata": {
    "deletable": true,
    "editable": true
   },
   "source": [
    "S    A    9    D    C    Q    X"
   ]
  },
  {
   "cell_type": "code",
   "execution_count": null,
   "metadata": {
    "collapsed": false,
    "deletable": true,
    "editable": true
   },
   "outputs": [],
   "source": [
    "t=.t,_2]\\ 0 0  2 1  3 1  1 1  1 1  4 1  1 1  NB. 0 space"
   ]
  },
  {
   "cell_type": "code",
   "execution_count": null,
   "metadata": {
    "collapsed": false,
    "deletable": true,
    "editable": true
   },
   "outputs": [],
   "source": [
    "t=.t,_2]\\ 0 3  2 2  3 2  1 0  1 0  4 2  1 2  NB. 1 other"
   ]
  },
  {
   "cell_type": "code",
   "execution_count": null,
   "metadata": {
    "collapsed": false,
    "deletable": true,
    "editable": true
   },
   "outputs": [],
   "source": [
    "t=.t,_2]\\ 0 3  2 0  2 0  1 0  1 0  4 2  1 2  NB. 2 alphanumeric"
   ]
  },
  {
   "cell_type": "code",
   "execution_count": null,
   "metadata": {
    "collapsed": false,
    "deletable": true,
    "editable": true
   },
   "outputs": [],
   "source": [
    "t=.t,_2]\\ 0 5  3 0  3 0  3 0  1 0  4 4  1 4  NB. 3 numeric"
   ]
  },
  {
   "cell_type": "code",
   "execution_count": null,
   "metadata": {
    "collapsed": false,
    "deletable": true,
    "editable": true
   },
   "outputs": [],
   "source": [
    "t=.t,_2]\\ 4 0  4 0  4 0  4 0  4 0  5 0  4 0  NB. 4 quote"
   ]
  },
  {
   "cell_type": "code",
   "execution_count": null,
   "metadata": {
    "collapsed": false,
    "deletable": true,
    "editable": true
   },
   "outputs": [],
   "source": [
    "t=.t,_2]\\ 0 3  2 2  3 2  1 2  1 2  4 0  1 2  NB. 5 even quotes"
   ]
  },
  {
   "cell_type": "code",
   "execution_count": null,
   "metadata": {
    "collapsed": false,
    "deletable": true,
    "editable": true
   },
   "outputs": [],
   "source": [
    "sjx=: t"
   ]
  },
  {
   "cell_type": "code",
   "execution_count": null,
   "metadata": {
    "collapsed": false,
    "deletable": true,
    "editable": true
   },
   "outputs": [],
   "source": [
    "f=: (0;sjx;<mjx)&;:"
   ]
  },
  {
   "cell_type": "code",
   "execution_count": null,
   "metadata": {
    "collapsed": false,
    "deletable": true,
    "editable": true
   },
   "outputs": [],
   "source": [
    "f y=: '(2*a) %~ (-b) (+,-) %: (*:b)-4*a*c'"
   ]
  },
  {
   "cell_type": "code",
   "execution_count": null,
   "metadata": {
    "collapsed": false,
    "deletable": true,
    "editable": true
   },
   "outputs": [],
   "source": [
    "(f -: ;:) y"
   ]
  },
  {
   "cell_type": "code",
   "execution_count": null,
   "metadata": {
    "collapsed": false,
    "deletable": true,
    "editable": true
   },
   "outputs": [],
   "source": [
    "(f -: ;:) '1 2 3 +/ . * 4 5 6'"
   ]
  },
  {
   "cell_type": "code",
   "execution_count": null,
   "metadata": {
    "collapsed": false,
    "deletable": true,
    "editable": true
   },
   "outputs": [],
   "source": [
    "(f -: ;:) 'gm=: */ %:~ #'"
   ]
  },
  {
   "cell_type": "markdown",
   "metadata": {
    "deletable": true,
    "editable": true
   },
   "source": [
    "### (17 of 17) Other Examples\n",
    "\n",
    "See the lab \"Huffman Coding\" for another example of using\n",
    "sequential machines."
   ]
  },
  {
   "cell_type": "markdown",
   "metadata": {
    "deletable": true,
    "editable": true
   },
   "source": [
    "### End of Lab"
   ]
  },
  {
   "cell_type": "code",
   "execution_count": null,
   "metadata": {
    "collapsed": false,
    "deletable": true,
    "editable": true
   },
   "outputs": [],
   "source": []
  }
 ],
 "metadata": {
  "kernelspec": {
   "display_name": "J",
   "language": "J",
   "name": "jkernel"
  },
  "language_info": {
   "file_extension": "ijs",
   "mimetype": "text/x-J",
   "name": "J"
  }
 },
 "nbformat": 4,
 "nbformat_minor": 2
}
